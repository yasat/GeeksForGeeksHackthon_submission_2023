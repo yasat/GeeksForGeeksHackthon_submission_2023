{
 "cells": [
  {
   "cell_type": "markdown",
   "id": "f9986932",
   "metadata": {},
   "source": [
    "# loading dataset"
   ]
  },
  {
   "cell_type": "code",
   "execution_count": 1,
   "id": "484a68c4",
   "metadata": {},
   "outputs": [
    {
     "data": {
      "text/html": [
       "<div>\n",
       "<style scoped>\n",
       "    .dataframe tbody tr th:only-of-type {\n",
       "        vertical-align: middle;\n",
       "    }\n",
       "\n",
       "    .dataframe tbody tr th {\n",
       "        vertical-align: top;\n",
       "    }\n",
       "\n",
       "    .dataframe thead th {\n",
       "        text-align: right;\n",
       "    }\n",
       "</style>\n",
       "<table border=\"1\" class=\"dataframe\">\n",
       "  <thead>\n",
       "    <tr style=\"text-align: right;\">\n",
       "      <th></th>\n",
       "      <th>Abohar</th>\n",
       "      <th>Adilabad</th>\n",
       "      <th>Adityapur</th>\n",
       "      <th>Adoni</th>\n",
       "      <th>Agartala</th>\n",
       "      <th>Agra</th>\n",
       "      <th>Ahmedabad</th>\n",
       "      <th>Ahmednagar</th>\n",
       "      <th>Aizawl</th>\n",
       "      <th>Ajmer</th>\n",
       "      <th>...</th>\n",
       "      <th>Vizag</th>\n",
       "      <th>Vizianagaram</th>\n",
       "      <th>Vyara</th>\n",
       "      <th>Waidhan</th>\n",
       "      <th>Warangal</th>\n",
       "      <th>Wardha</th>\n",
       "      <th>Washim</th>\n",
       "      <th>Wayanad</th>\n",
       "      <th>Yamuna-nagar</th>\n",
       "      <th>Yavatmal</th>\n",
       "    </tr>\n",
       "  </thead>\n",
       "  <tbody>\n",
       "    <tr>\n",
       "      <th>link</th>\n",
       "      <td>https://www.swiggy.com/city/abohar</td>\n",
       "      <td>https://www.swiggy.com/city/adilabad</td>\n",
       "      <td>https://www.swiggy.com/city/adityapur</td>\n",
       "      <td>https://www.swiggy.com/city/adoni</td>\n",
       "      <td>https://www.swiggy.com/city/agartala</td>\n",
       "      <td>https://www.swiggy.com/city/agra</td>\n",
       "      <td>{'link': 'https://www.swiggy.com/city/ahmedaba...</td>\n",
       "      <td>https://www.swiggy.com/city/ahmednagar</td>\n",
       "      <td>https://www.swiggy.com/city/aizawl</td>\n",
       "      <td>https://www.swiggy.com/city/ajmer</td>\n",
       "      <td>...</td>\n",
       "      <td>{'link': 'https://www.swiggy.com/city/vizag', ...</td>\n",
       "      <td>https://www.swiggy.com/city/vizianagaram</td>\n",
       "      <td>https://www.swiggy.com/city/vyara</td>\n",
       "      <td>https://www.swiggy.com/city/waidhan</td>\n",
       "      <td>https://www.swiggy.com/city/warangal</td>\n",
       "      <td>https://www.swiggy.com/city/wardha</td>\n",
       "      <td>https://www.swiggy.com/city/washim</td>\n",
       "      <td>https://www.swiggy.com/city/wayanad</td>\n",
       "      <td>https://www.swiggy.com/city/yamuna-nagar</td>\n",
       "      <td>https://www.swiggy.com/city/yavatmal</td>\n",
       "    </tr>\n",
       "    <tr>\n",
       "      <th>restaurants</th>\n",
       "      <td>{'567335': {'name': 'AB FOODS POINT', 'rating'...</td>\n",
       "      <td>{'224008': {'name': 'Sharma Bakery', 'rating':...</td>\n",
       "      <td>{'321587': {'name': 'Kwality Walls Frozen Dess...</td>\n",
       "      <td>{'146227': {'name': 'KKFC', 'rating': '3.8', '...</td>\n",
       "      <td>{'227061': {'name': 'Gujrat Hotel and Restaura...</td>\n",
       "      <td>{'74562': {'name': 'Bhagat Halwai (Dayal Bagh)...</td>\n",
       "      <td>NaN</td>\n",
       "      <td>{'245744': {'name': 'Noodles Bar Family Restau...</td>\n",
       "      <td>{'454727': {'name': 'Amaterasu Oriental Food',...</td>\n",
       "      <td>{'221806': {'name': 'Chamunda Restaurant', 'ra...</td>\n",
       "      <td>...</td>\n",
       "      <td>NaN</td>\n",
       "      <td>{'321780': {'name': 'Alankar's red chilli', 'r...</td>\n",
       "      <td>{'497247': {'name': 'La Pino'Z Pizza', 'rating...</td>\n",
       "      <td>{'472751': {'name': 'HOTEL SHARDA PALACE AND R...</td>\n",
       "      <td>{'547809': {'name': 'THEOBROMA', 'rating': '4....</td>\n",
       "      <td>{'276160': {'name': 'FOOD FEAST RESTAURANTS', ...</td>\n",
       "      <td>{'478256': {'name': 'Cafe Night 11', 'rating':...</td>\n",
       "      <td>{}</td>\n",
       "      <td>{'154861': {'name': 'Lucky The Chicken Corner'...</td>\n",
       "      <td>{'141318': {'name': 'Ekvira Restaurant', 'rati...</td>\n",
       "    </tr>\n",
       "    <tr>\n",
       "      <th>Vastrapur</th>\n",
       "      <td>NaN</td>\n",
       "      <td>NaN</td>\n",
       "      <td>NaN</td>\n",
       "      <td>NaN</td>\n",
       "      <td>NaN</td>\n",
       "      <td>NaN</td>\n",
       "      <td>{'link': 'https://www.swiggy.com/city/ahmedaba...</td>\n",
       "      <td>NaN</td>\n",
       "      <td>NaN</td>\n",
       "      <td>NaN</td>\n",
       "      <td>...</td>\n",
       "      <td>NaN</td>\n",
       "      <td>NaN</td>\n",
       "      <td>NaN</td>\n",
       "      <td>NaN</td>\n",
       "      <td>NaN</td>\n",
       "      <td>NaN</td>\n",
       "      <td>NaN</td>\n",
       "      <td>NaN</td>\n",
       "      <td>NaN</td>\n",
       "      <td>NaN</td>\n",
       "    </tr>\n",
       "    <tr>\n",
       "      <th>GOTA</th>\n",
       "      <td>NaN</td>\n",
       "      <td>NaN</td>\n",
       "      <td>NaN</td>\n",
       "      <td>NaN</td>\n",
       "      <td>NaN</td>\n",
       "      <td>NaN</td>\n",
       "      <td>{'link': 'https://www.swiggy.com/city/ahmedaba...</td>\n",
       "      <td>NaN</td>\n",
       "      <td>NaN</td>\n",
       "      <td>NaN</td>\n",
       "      <td>...</td>\n",
       "      <td>NaN</td>\n",
       "      <td>NaN</td>\n",
       "      <td>NaN</td>\n",
       "      <td>NaN</td>\n",
       "      <td>NaN</td>\n",
       "      <td>NaN</td>\n",
       "      <td>NaN</td>\n",
       "      <td>NaN</td>\n",
       "      <td>NaN</td>\n",
       "      <td>NaN</td>\n",
       "    </tr>\n",
       "    <tr>\n",
       "      <th>Paldi &amp; Ambawadi</th>\n",
       "      <td>NaN</td>\n",
       "      <td>NaN</td>\n",
       "      <td>NaN</td>\n",
       "      <td>NaN</td>\n",
       "      <td>NaN</td>\n",
       "      <td>NaN</td>\n",
       "      <td>{'link': 'https://www.swiggy.com/city/ahmedaba...</td>\n",
       "      <td>NaN</td>\n",
       "      <td>NaN</td>\n",
       "      <td>NaN</td>\n",
       "      <td>...</td>\n",
       "      <td>NaN</td>\n",
       "      <td>NaN</td>\n",
       "      <td>NaN</td>\n",
       "      <td>NaN</td>\n",
       "      <td>NaN</td>\n",
       "      <td>NaN</td>\n",
       "      <td>NaN</td>\n",
       "      <td>NaN</td>\n",
       "      <td>NaN</td>\n",
       "      <td>NaN</td>\n",
       "    </tr>\n",
       "  </tbody>\n",
       "</table>\n",
       "<p>5 rows × 623 columns</p>\n",
       "</div>"
      ],
      "text/plain": [
       "                                                             Abohar   \n",
       "link                             https://www.swiggy.com/city/abohar  \\\n",
       "restaurants       {'567335': {'name': 'AB FOODS POINT', 'rating'...   \n",
       "Vastrapur                                                       NaN   \n",
       "GOTA                                                            NaN   \n",
       "Paldi & Ambawadi                                                NaN   \n",
       "\n",
       "                                                           Adilabad   \n",
       "link                           https://www.swiggy.com/city/adilabad  \\\n",
       "restaurants       {'224008': {'name': 'Sharma Bakery', 'rating':...   \n",
       "Vastrapur                                                       NaN   \n",
       "GOTA                                                            NaN   \n",
       "Paldi & Ambawadi                                                NaN   \n",
       "\n",
       "                                                          Adityapur   \n",
       "link                          https://www.swiggy.com/city/adityapur  \\\n",
       "restaurants       {'321587': {'name': 'Kwality Walls Frozen Dess...   \n",
       "Vastrapur                                                       NaN   \n",
       "GOTA                                                            NaN   \n",
       "Paldi & Ambawadi                                                NaN   \n",
       "\n",
       "                                                              Adoni   \n",
       "link                              https://www.swiggy.com/city/adoni  \\\n",
       "restaurants       {'146227': {'name': 'KKFC', 'rating': '3.8', '...   \n",
       "Vastrapur                                                       NaN   \n",
       "GOTA                                                            NaN   \n",
       "Paldi & Ambawadi                                                NaN   \n",
       "\n",
       "                                                           Agartala   \n",
       "link                           https://www.swiggy.com/city/agartala  \\\n",
       "restaurants       {'227061': {'name': 'Gujrat Hotel and Restaura...   \n",
       "Vastrapur                                                       NaN   \n",
       "GOTA                                                            NaN   \n",
       "Paldi & Ambawadi                                                NaN   \n",
       "\n",
       "                                                               Agra   \n",
       "link                               https://www.swiggy.com/city/agra  \\\n",
       "restaurants       {'74562': {'name': 'Bhagat Halwai (Dayal Bagh)...   \n",
       "Vastrapur                                                       NaN   \n",
       "GOTA                                                            NaN   \n",
       "Paldi & Ambawadi                                                NaN   \n",
       "\n",
       "                                                          Ahmedabad   \n",
       "link              {'link': 'https://www.swiggy.com/city/ahmedaba...  \\\n",
       "restaurants                                                     NaN   \n",
       "Vastrapur         {'link': 'https://www.swiggy.com/city/ahmedaba...   \n",
       "GOTA              {'link': 'https://www.swiggy.com/city/ahmedaba...   \n",
       "Paldi & Ambawadi  {'link': 'https://www.swiggy.com/city/ahmedaba...   \n",
       "\n",
       "                                                         Ahmednagar   \n",
       "link                         https://www.swiggy.com/city/ahmednagar  \\\n",
       "restaurants       {'245744': {'name': 'Noodles Bar Family Restau...   \n",
       "Vastrapur                                                       NaN   \n",
       "GOTA                                                            NaN   \n",
       "Paldi & Ambawadi                                                NaN   \n",
       "\n",
       "                                                             Aizawl   \n",
       "link                             https://www.swiggy.com/city/aizawl  \\\n",
       "restaurants       {'454727': {'name': 'Amaterasu Oriental Food',...   \n",
       "Vastrapur                                                       NaN   \n",
       "GOTA                                                            NaN   \n",
       "Paldi & Ambawadi                                                NaN   \n",
       "\n",
       "                                                              Ajmer  ...   \n",
       "link                              https://www.swiggy.com/city/ajmer  ...  \\\n",
       "restaurants       {'221806': {'name': 'Chamunda Restaurant', 'ra...  ...   \n",
       "Vastrapur                                                       NaN  ...   \n",
       "GOTA                                                            NaN  ...   \n",
       "Paldi & Ambawadi                                                NaN  ...   \n",
       "\n",
       "                                                              Vizag   \n",
       "link              {'link': 'https://www.swiggy.com/city/vizag', ...  \\\n",
       "restaurants                                                     NaN   \n",
       "Vastrapur                                                       NaN   \n",
       "GOTA                                                            NaN   \n",
       "Paldi & Ambawadi                                                NaN   \n",
       "\n",
       "                                                       Vizianagaram   \n",
       "link                       https://www.swiggy.com/city/vizianagaram  \\\n",
       "restaurants       {'321780': {'name': 'Alankar's red chilli', 'r...   \n",
       "Vastrapur                                                       NaN   \n",
       "GOTA                                                            NaN   \n",
       "Paldi & Ambawadi                                                NaN   \n",
       "\n",
       "                                                              Vyara   \n",
       "link                              https://www.swiggy.com/city/vyara  \\\n",
       "restaurants       {'497247': {'name': 'La Pino'Z Pizza', 'rating...   \n",
       "Vastrapur                                                       NaN   \n",
       "GOTA                                                            NaN   \n",
       "Paldi & Ambawadi                                                NaN   \n",
       "\n",
       "                                                            Waidhan   \n",
       "link                            https://www.swiggy.com/city/waidhan  \\\n",
       "restaurants       {'472751': {'name': 'HOTEL SHARDA PALACE AND R...   \n",
       "Vastrapur                                                       NaN   \n",
       "GOTA                                                            NaN   \n",
       "Paldi & Ambawadi                                                NaN   \n",
       "\n",
       "                                                           Warangal   \n",
       "link                           https://www.swiggy.com/city/warangal  \\\n",
       "restaurants       {'547809': {'name': 'THEOBROMA', 'rating': '4....   \n",
       "Vastrapur                                                       NaN   \n",
       "GOTA                                                            NaN   \n",
       "Paldi & Ambawadi                                                NaN   \n",
       "\n",
       "                                                             Wardha   \n",
       "link                             https://www.swiggy.com/city/wardha  \\\n",
       "restaurants       {'276160': {'name': 'FOOD FEAST RESTAURANTS', ...   \n",
       "Vastrapur                                                       NaN   \n",
       "GOTA                                                            NaN   \n",
       "Paldi & Ambawadi                                                NaN   \n",
       "\n",
       "                                                             Washim   \n",
       "link                             https://www.swiggy.com/city/washim  \\\n",
       "restaurants       {'478256': {'name': 'Cafe Night 11', 'rating':...   \n",
       "Vastrapur                                                       NaN   \n",
       "GOTA                                                            NaN   \n",
       "Paldi & Ambawadi                                                NaN   \n",
       "\n",
       "                                              Wayanad   \n",
       "link              https://www.swiggy.com/city/wayanad  \\\n",
       "restaurants                                        {}   \n",
       "Vastrapur                                         NaN   \n",
       "GOTA                                              NaN   \n",
       "Paldi & Ambawadi                                  NaN   \n",
       "\n",
       "                                                       Yamuna-nagar   \n",
       "link                       https://www.swiggy.com/city/yamuna-nagar  \\\n",
       "restaurants       {'154861': {'name': 'Lucky The Chicken Corner'...   \n",
       "Vastrapur                                                       NaN   \n",
       "GOTA                                                            NaN   \n",
       "Paldi & Ambawadi                                                NaN   \n",
       "\n",
       "                                                           Yavatmal  \n",
       "link                           https://www.swiggy.com/city/yavatmal  \n",
       "restaurants       {'141318': {'name': 'Ekvira Restaurant', 'rati...  \n",
       "Vastrapur                                                       NaN  \n",
       "GOTA                                                            NaN  \n",
       "Paldi & Ambawadi                                                NaN  \n",
       "\n",
       "[5 rows x 623 columns]"
      ]
     },
     "execution_count": 1,
     "metadata": {},
     "output_type": "execute_result"
    }
   ],
   "source": [
    "import pandas as pd\n",
    "import matplotlib.pyplot as plt\n",
    "from collections import Counter\n",
    "\n",
    "swiggy_data = pd.read_json(\"data.json\")\n",
    "swiggy_data.head()"
   ]
  },
  {
   "cell_type": "markdown",
   "id": "2f92e5b7",
   "metadata": {},
   "source": [
    "# Simple preprocessing"
   ]
  },
  {
   "cell_type": "code",
   "execution_count": 2,
   "id": "00ce91c3",
   "metadata": {},
   "outputs": [
    {
     "data": {
      "text/html": [
       "<div>\n",
       "<style scoped>\n",
       "    .dataframe tbody tr th:only-of-type {\n",
       "        vertical-align: middle;\n",
       "    }\n",
       "\n",
       "    .dataframe tbody tr th {\n",
       "        vertical-align: top;\n",
       "    }\n",
       "\n",
       "    .dataframe thead th {\n",
       "        text-align: right;\n",
       "    }\n",
       "</style>\n",
       "<table border=\"1\" class=\"dataframe\">\n",
       "  <thead>\n",
       "    <tr style=\"text-align: right;\">\n",
       "      <th></th>\n",
       "      <th>Abohar</th>\n",
       "      <th>Adilabad</th>\n",
       "      <th>Adityapur</th>\n",
       "      <th>Adoni</th>\n",
       "      <th>Agartala</th>\n",
       "      <th>Agra</th>\n",
       "      <th>Ahmedabad</th>\n",
       "      <th>Ahmednagar</th>\n",
       "      <th>Aizawl</th>\n",
       "      <th>Ajmer</th>\n",
       "      <th>...</th>\n",
       "      <th>Vizag</th>\n",
       "      <th>Vizianagaram</th>\n",
       "      <th>Vyara</th>\n",
       "      <th>Waidhan</th>\n",
       "      <th>Warangal</th>\n",
       "      <th>Wardha</th>\n",
       "      <th>Washim</th>\n",
       "      <th>Wayanad</th>\n",
       "      <th>Yamuna-nagar</th>\n",
       "      <th>Yavatmal</th>\n",
       "    </tr>\n",
       "  </thead>\n",
       "  <tbody>\n",
       "    <tr>\n",
       "      <th>Vastrapur</th>\n",
       "      <td>NaN</td>\n",
       "      <td>NaN</td>\n",
       "      <td>NaN</td>\n",
       "      <td>NaN</td>\n",
       "      <td>NaN</td>\n",
       "      <td>NaN</td>\n",
       "      <td>{'link': 'https://www.swiggy.com/city/ahmedaba...</td>\n",
       "      <td>NaN</td>\n",
       "      <td>NaN</td>\n",
       "      <td>NaN</td>\n",
       "      <td>...</td>\n",
       "      <td>NaN</td>\n",
       "      <td>NaN</td>\n",
       "      <td>NaN</td>\n",
       "      <td>NaN</td>\n",
       "      <td>NaN</td>\n",
       "      <td>NaN</td>\n",
       "      <td>NaN</td>\n",
       "      <td>NaN</td>\n",
       "      <td>NaN</td>\n",
       "      <td>NaN</td>\n",
       "    </tr>\n",
       "    <tr>\n",
       "      <th>GOTA</th>\n",
       "      <td>NaN</td>\n",
       "      <td>NaN</td>\n",
       "      <td>NaN</td>\n",
       "      <td>NaN</td>\n",
       "      <td>NaN</td>\n",
       "      <td>NaN</td>\n",
       "      <td>{'link': 'https://www.swiggy.com/city/ahmedaba...</td>\n",
       "      <td>NaN</td>\n",
       "      <td>NaN</td>\n",
       "      <td>NaN</td>\n",
       "      <td>...</td>\n",
       "      <td>NaN</td>\n",
       "      <td>NaN</td>\n",
       "      <td>NaN</td>\n",
       "      <td>NaN</td>\n",
       "      <td>NaN</td>\n",
       "      <td>NaN</td>\n",
       "      <td>NaN</td>\n",
       "      <td>NaN</td>\n",
       "      <td>NaN</td>\n",
       "      <td>NaN</td>\n",
       "    </tr>\n",
       "    <tr>\n",
       "      <th>Paldi &amp; Ambawadi</th>\n",
       "      <td>NaN</td>\n",
       "      <td>NaN</td>\n",
       "      <td>NaN</td>\n",
       "      <td>NaN</td>\n",
       "      <td>NaN</td>\n",
       "      <td>NaN</td>\n",
       "      <td>{'link': 'https://www.swiggy.com/city/ahmedaba...</td>\n",
       "      <td>NaN</td>\n",
       "      <td>NaN</td>\n",
       "      <td>NaN</td>\n",
       "      <td>...</td>\n",
       "      <td>NaN</td>\n",
       "      <td>NaN</td>\n",
       "      <td>NaN</td>\n",
       "      <td>NaN</td>\n",
       "      <td>NaN</td>\n",
       "      <td>NaN</td>\n",
       "      <td>NaN</td>\n",
       "      <td>NaN</td>\n",
       "      <td>NaN</td>\n",
       "      <td>NaN</td>\n",
       "    </tr>\n",
       "    <tr>\n",
       "      <th>Ghatlodia</th>\n",
       "      <td>NaN</td>\n",
       "      <td>NaN</td>\n",
       "      <td>NaN</td>\n",
       "      <td>NaN</td>\n",
       "      <td>NaN</td>\n",
       "      <td>NaN</td>\n",
       "      <td>{'link': 'https://www.swiggy.com/city/ahmedaba...</td>\n",
       "      <td>NaN</td>\n",
       "      <td>NaN</td>\n",
       "      <td>NaN</td>\n",
       "      <td>...</td>\n",
       "      <td>NaN</td>\n",
       "      <td>NaN</td>\n",
       "      <td>NaN</td>\n",
       "      <td>NaN</td>\n",
       "      <td>NaN</td>\n",
       "      <td>NaN</td>\n",
       "      <td>NaN</td>\n",
       "      <td>NaN</td>\n",
       "      <td>NaN</td>\n",
       "      <td>NaN</td>\n",
       "    </tr>\n",
       "    <tr>\n",
       "      <th>Bopal</th>\n",
       "      <td>NaN</td>\n",
       "      <td>NaN</td>\n",
       "      <td>NaN</td>\n",
       "      <td>NaN</td>\n",
       "      <td>NaN</td>\n",
       "      <td>NaN</td>\n",
       "      <td>{'link': 'https://www.swiggy.com/city/ahmedaba...</td>\n",
       "      <td>NaN</td>\n",
       "      <td>NaN</td>\n",
       "      <td>NaN</td>\n",
       "      <td>...</td>\n",
       "      <td>NaN</td>\n",
       "      <td>NaN</td>\n",
       "      <td>NaN</td>\n",
       "      <td>NaN</td>\n",
       "      <td>NaN</td>\n",
       "      <td>NaN</td>\n",
       "      <td>NaN</td>\n",
       "      <td>NaN</td>\n",
       "      <td>NaN</td>\n",
       "      <td>NaN</td>\n",
       "    </tr>\n",
       "  </tbody>\n",
       "</table>\n",
       "<p>5 rows × 623 columns</p>\n",
       "</div>"
      ],
      "text/plain": [
       "                 Abohar Adilabad Adityapur Adoni Agartala Agra   \n",
       "Vastrapur           NaN      NaN       NaN   NaN      NaN  NaN  \\\n",
       "GOTA                NaN      NaN       NaN   NaN      NaN  NaN   \n",
       "Paldi & Ambawadi    NaN      NaN       NaN   NaN      NaN  NaN   \n",
       "Ghatlodia           NaN      NaN       NaN   NaN      NaN  NaN   \n",
       "Bopal               NaN      NaN       NaN   NaN      NaN  NaN   \n",
       "\n",
       "                                                          Ahmedabad   \n",
       "Vastrapur         {'link': 'https://www.swiggy.com/city/ahmedaba...  \\\n",
       "GOTA              {'link': 'https://www.swiggy.com/city/ahmedaba...   \n",
       "Paldi & Ambawadi  {'link': 'https://www.swiggy.com/city/ahmedaba...   \n",
       "Ghatlodia         {'link': 'https://www.swiggy.com/city/ahmedaba...   \n",
       "Bopal             {'link': 'https://www.swiggy.com/city/ahmedaba...   \n",
       "\n",
       "                 Ahmednagar Aizawl Ajmer  ... Vizag Vizianagaram Vyara   \n",
       "Vastrapur               NaN    NaN   NaN  ...   NaN          NaN   NaN  \\\n",
       "GOTA                    NaN    NaN   NaN  ...   NaN          NaN   NaN   \n",
       "Paldi & Ambawadi        NaN    NaN   NaN  ...   NaN          NaN   NaN   \n",
       "Ghatlodia               NaN    NaN   NaN  ...   NaN          NaN   NaN   \n",
       "Bopal                   NaN    NaN   NaN  ...   NaN          NaN   NaN   \n",
       "\n",
       "                 Waidhan Warangal Wardha Washim Wayanad Yamuna-nagar Yavatmal  \n",
       "Vastrapur            NaN      NaN    NaN    NaN     NaN          NaN      NaN  \n",
       "GOTA                 NaN      NaN    NaN    NaN     NaN          NaN      NaN  \n",
       "Paldi & Ambawadi     NaN      NaN    NaN    NaN     NaN          NaN      NaN  \n",
       "Ghatlodia            NaN      NaN    NaN    NaN     NaN          NaN      NaN  \n",
       "Bopal                NaN      NaN    NaN    NaN     NaN          NaN      NaN  \n",
       "\n",
       "[5 rows x 623 columns]"
      ]
     },
     "execution_count": 2,
     "metadata": {},
     "output_type": "execute_result"
    }
   ],
   "source": [
    "city_names = list(swiggy_data.columns)\n",
    "total_cities = len(city_names)\n",
    "\n",
    "swiggy_data_cities = swiggy_data.drop(swiggy_data.iloc[[0,1]].index)\n",
    "\n",
    "swiggy_data_cities.head()"
   ]
  },
  {
   "cell_type": "markdown",
   "id": "d18f9e72",
   "metadata": {},
   "source": [
    "# Solutions"
   ]
  },
  {
   "cell_type": "markdown",
   "id": "c96e7f9c",
   "metadata": {},
   "source": [
    "### problem 1"
   ]
  },
  {
   "cell_type": "code",
   "execution_count": 3,
   "id": "1f13d835",
   "metadata": {},
   "outputs": [
    {
     "name": "stdout",
     "output_type": "stream",
     "text": [
      "total cities with subregions 972\n"
     ]
    }
   ],
   "source": [
    "total_subregions = swiggy_data.count(axis=0).sum()-total_cities\n",
    "\n",
    "print(\"total cities with subregions\", total_subregions)"
   ]
  },
  {
   "cell_type": "markdown",
   "id": "5795fa7c",
   "metadata": {},
   "source": [
    "### problem 2"
   ]
  },
  {
   "cell_type": "code",
   "execution_count": 4,
   "id": "4a1735fe",
   "metadata": {},
   "outputs": [
    {
     "name": "stdout",
     "output_type": "stream",
     "text": [
      "total cities only 597\n"
     ]
    }
   ],
   "source": [
    "total_only_cities = swiggy_data.count(axis=1).loc['restaurants']\n",
    "\n",
    "print(\"total cities only\", total_only_cities)"
   ]
  },
  {
   "cell_type": "markdown",
   "id": "7273b520",
   "metadata": {},
   "source": [
    "### problem 3"
   ]
  },
  {
   "cell_type": "code",
   "execution_count": 5,
   "id": "1a649989",
   "metadata": {},
   "outputs": [
    {
     "name": "stdout",
     "output_type": "stream",
     "text": [
      "subregion with maximum number of restaurants in delhi: indirapuram 1279\n"
     ]
    }
   ],
   "source": [
    "max_delhi_res = 0\n",
    "rest_id = 0\n",
    "city_to_check = 'Delhi'\n",
    "for sub_delhi in swiggy_data_cities[city_to_check][swiggy_data_cities[city_to_check].notna()]:\n",
    "    rest_count = len(sub_delhi['restaurants'].keys())\n",
    "    if(max_delhi_res <= rest_count):\n",
    "        max_delhi_res = rest_count\n",
    "        rest_id = sub_delhi['link'].split(\"/\")[-1].split(\"-restaurants\")[0]\n",
    "\n",
    "if(max_delhi_res == 0):\n",
    "    rest_id = city_to_check\n",
    "    try:\n",
    "        max_delhi_res = len(swiggy_data.loc['restaurants',city_to_check].keys())\n",
    "    except:\n",
    "        pass\n",
    "\n",
    "print(\"subregion with maximum number of restaurants in delhi:\",rest_id, max_delhi_res)"
   ]
  },
  {
   "cell_type": "markdown",
   "id": "b831ac5d",
   "metadata": {},
   "source": [
    "### problem 4"
   ]
  },
  {
   "cell_type": "code",
   "execution_count": 6,
   "id": "ce09f6ec",
   "metadata": {},
   "outputs": [
    {
     "name": "stdout",
     "output_type": "stream",
     "text": [
      "top 5 costly cities:  [('Bangalore', 4632768), ('Delhi', 4463198), ('Pune', 3739089), ('Hyderabad', 3011912), ('Chennai', 2890593)]\n"
     ]
    }
   ],
   "source": [
    "city_cost_map = dict()\n",
    "rest_rating_map = dict()\n",
    "city_rest_list = dict()\n",
    "\n",
    "for city in city_names:\n",
    "    cost_of_city = 0\n",
    "    rest_count = 0\n",
    "    for sub_city in swiggy_data_cities[city][swiggy_data_cities[city].notna()]:\n",
    "        if(len(sub_city['restaurants']) <= 0):\n",
    "            continue\n",
    "        for rest_key in sub_city['restaurants'].keys():\n",
    "            rest = sub_city['restaurants'][rest_key]\n",
    "            try:\n",
    "                cost_of_city = cost_of_city + int(rest['cost'].split(\"₹\")[-1].strip())\n",
    "                rest_rating_map[rest['name']] = float(rest['rating'].strip())\n",
    "                rest_count = rest_count + 1\n",
    "            except:\n",
    "                pass\n",
    "    try:\n",
    "        if(len(swiggy_data.loc['restaurants',city].keys()) > 0):\n",
    "            for sub_city in swiggy_data.loc['restaurants',city]:\n",
    "                cost_of_city = cost_of_city + int(swiggy_data.loc['restaurants',city][sub_city]['cost'].split(\"₹\")[-1].strip())\n",
    "                rest_count = rest_count + 1\n",
    "                rest_rating_map[swiggy_data.loc['restaurants',city][sub_city]['name']] = float(swiggy_data.loc['restaurants',city][sub_city]['rating'].strip())\n",
    "    except:\n",
    "        pass\n",
    "\n",
    "    city_cost_map[city] = cost_of_city\n",
    "    city_rest_list[city] = rest_count\n",
    "\n",
    "c = Counter(city_cost_map)\n",
    "print('top 5 costly cities: ',c.most_common(5))"
   ]
  },
  {
   "cell_type": "markdown",
   "id": "833a5034",
   "metadata": {},
   "source": [
    "### problem 5"
   ]
  },
  {
   "cell_type": "code",
   "execution_count": 7,
   "id": "68f1c1f5",
   "metadata": {},
   "outputs": [
    {
     "name": "stdout",
     "output_type": "stream",
     "text": [
      "top 5 maximum rating:  [('HRX by Eatfit', 5.0), ('Creams and Bites', 5.0), (\"Bansal's Thali & Combo Meals\", 5.0), ('JUST CREAMERY - Artisanal Healthy Ice Cream', 5.0), ('The Chinese Connection', 5.0)]\n",
      "top 5 minimum rating:  [('Ice Cream and Shakes Co', 1.0), ('Persian Delight', 1.1), ('The Hyderabadi Biryani House', 1.2), ('THE TARI STORY', 1.2), ('SHAWARMA WRAP - ROLL YOUR SECRETS', 1.2)]\n"
     ]
    }
   ],
   "source": [
    "rating_c = Counter(rest_rating_map)\n",
    "print('top 5 maximum rating: ',rating_c.most_common(5))\n",
    "print('top 5 minimum rating: ',rating_c.most_common()[:-6:-1])"
   ]
  },
  {
   "cell_type": "markdown",
   "id": "da55b5e2",
   "metadata": {},
   "source": [
    "### problem 6"
   ]
  },
  {
   "cell_type": "code",
   "execution_count": 8,
   "id": "07783072",
   "metadata": {},
   "outputs": [
    {
     "name": "stdout",
     "output_type": "stream",
     "text": [
      "top 10 highest restaurants cities:  [('Bangalore', 7017), ('Chennai', 4849), ('Hyderabad', 4645), ('Delhi', 4592), ('Pune', 3765), ('Kolkata', 3160), ('Mumbai', 2340), ('Ahmedabad', 1293), ('Chandigarh', 1161), ('Gurgaon', 1096)]\n"
     ]
    }
   ],
   "source": [
    "rest_c = Counter(city_rest_list)\n",
    "print('top 10 highest restaurants cities: ',rest_c.most_common(10))"
   ]
  },
  {
   "cell_type": "markdown",
   "id": "7a127f20",
   "metadata": {},
   "source": [
    "### problem 7"
   ]
  },
  {
   "cell_type": "code",
   "execution_count": 9,
   "id": "2f8f0086",
   "metadata": {},
   "outputs": [
    {
     "name": "stdout",
     "output_type": "stream",
     "text": [
      "top 5 maximum rating in pune:  [('The Samosa Man', 5.0), ('HRX by Eatfit', 5.0), ('Miss Gelato', 5.0), ('Kushta by Semporo', 5.0), ('Roll Over Biryani', 5.0)]\n"
     ]
    }
   ],
   "source": [
    "pune_rest_list = dict()\n",
    "rest_visiting_list = dict()\n",
    "city = 'Pune'\n",
    "for sub_city in swiggy_data_cities[city][swiggy_data_cities[city].notna()]:\n",
    "    if(len(sub_city['restaurants']) <= 0):\n",
    "        continue\n",
    "    for rest_key in sub_city['restaurants'].keys():\n",
    "        rest = sub_city['restaurants'][rest_key]\n",
    "        try:\n",
    "            pune_rest_list[rest['name']] = float(rest['rating'].strip())\n",
    "            rest_visiting_list[rest['name']] = int(rest['rating_count'].strip(\"+ ratings\"))\n",
    "        except:\n",
    "            pass\n",
    "try:\n",
    "    if(len(swiggy_data.loc['restaurants',city].keys()) > 0):\n",
    "        for sub_city in swiggy_data.loc['restaurants',city]:\n",
    "            pune_rest_list[swiggy_data.loc['restaurants',city][sub_city]['name']] = float(swiggy_data.loc['restaurants',city][sub_city]['rating'].strip())\n",
    "            rest_visiting_list[swiggy_data.loc['restaurants',city][sub_city]['name']] = int(swiggy_data.loc['restaurants',city][sub_city]['rating_count'].strip(\"+ ratings\"))\n",
    "except:\n",
    "    pass\n",
    "\n",
    "pune_c = Counter(pune_rest_list)\n",
    "print('top 5 maximum rating in pune: ',pune_c.most_common(5))"
   ]
  },
  {
   "cell_type": "markdown",
   "id": "c3a7721c",
   "metadata": {},
   "source": [
    "### problem 8"
   ]
  },
  {
   "cell_type": "code",
   "execution_count": 10,
   "id": "412b3af4",
   "metadata": {},
   "outputs": [
    {
     "name": "stdout",
     "output_type": "stream",
     "text": [
      "least expensive restaurant in delhi:  lajpat-nagar 1\n"
     ]
    }
   ],
   "source": [
    "least_exp_rest = 9999999\n",
    "least_exp_region = 'Delhi'\n",
    "city = 'Delhi'\n",
    "for sub_city in swiggy_data_cities[city][swiggy_data_cities[city].notna()]:\n",
    "    if(len(sub_city['restaurants']) <= 0):\n",
    "        continue\n",
    "    for rest_key in sub_city['restaurants'].keys():\n",
    "        rest = sub_city['restaurants'][rest_key]\n",
    "        try:\n",
    "            rest_price = int(rest['cost'].split(\"₹\")[-1].strip())\n",
    "            if(least_exp_rest >= rest_price):\n",
    "                least_exp_rest = rest_price\n",
    "                least_exp_region = sub_city['link'].split(\"/\")[-1].split(\"-restaurants\")[0]\n",
    "        except:\n",
    "            pass\n",
    "try:\n",
    "    if(len(swiggy_data.loc['restaurants',city].keys()) > 0):\n",
    "        for sub_city in swiggy_data.loc['restaurants',city]:\n",
    "            rest_price = int(swiggy_data.loc['restaurants',city][sub_city]['cost'].split(\"₹\")[-1].strip())\n",
    "            if(least_exp_rest >= rest_price):\n",
    "                least_exp_rest = rest_price\n",
    "                least_exp_region = sub_city['link'].split(\"/\")[-1].split(\"-restaurants\")[0]\n",
    "except:\n",
    "    pass\n",
    "\n",
    "print(\"least expensive restaurant in delhi: \",least_exp_region, least_exp_rest)"
   ]
  },
  {
   "cell_type": "markdown",
   "id": "c0db7432",
   "metadata": {},
   "source": [
    "### problem 9"
   ]
  },
  {
   "cell_type": "code",
   "execution_count": 11,
   "id": "19da4a17",
   "metadata": {},
   "outputs": [
    {
     "name": "stdout",
     "output_type": "stream",
     "text": [
      "top 5 restaurant chains:  [(\"Domino's Pizza\", 461), ('Pizza Hut', 340), ('KFC', 328), ('Kwality Walls Frozen Dessert and Ice Cream Shop', 314), ('Baskin Robbins', 297)]\n"
     ]
    }
   ],
   "source": [
    "rest_chains = dict()\n",
    "\n",
    "for city in city_names:\n",
    "    for sub_city in swiggy_data_cities[city][swiggy_data_cities[city].notna()]:\n",
    "        if(len(sub_city['restaurants']) <= 0):\n",
    "            continue\n",
    "        for rest_key in sub_city['restaurants'].keys():\n",
    "            rest = sub_city['restaurants'][rest_key]\n",
    "            try:\n",
    "                rest_chains[rest['name']] = rest_chains.get(rest['name'], 0) + 1\n",
    "            except:\n",
    "                pass\n",
    "    try:\n",
    "        if(len(swiggy_data.loc['restaurants',city].keys()) > 0):\n",
    "            for sub_city in swiggy_data.loc['restaurants',city]:\n",
    "                rest_chains[swiggy_data.loc['restaurants',city][sub_city]['name']] = rest_chains.get(swiggy_data.loc['restaurants',city][sub_city]['name'], 0) + 1\n",
    "    except:\n",
    "        pass\n",
    "\n",
    "rest_chain_c = Counter(rest_chains)\n",
    "print('top 5 restaurant chains: ',rest_chain_c.most_common(5))"
   ]
  },
  {
   "cell_type": "markdown",
   "id": "87916bba",
   "metadata": {},
   "source": [
    "### problem 10"
   ]
  },
  {
   "cell_type": "code",
   "execution_count": 12,
   "id": "18b9f140",
   "metadata": {},
   "outputs": [
    {
     "name": "stdout",
     "output_type": "stream",
     "text": [
      "top visited restuarant in Pune:  [('NIC Natural Ice Creams', 500)]\n"
     ]
    }
   ],
   "source": [
    "pune_toprest_c = Counter(rest_visiting_list)\n",
    "print('top visited restuarant in Pune: ',pune_toprest_c.most_common(1))"
   ]
  },
  {
   "cell_type": "markdown",
   "id": "29c027e3",
   "metadata": {},
   "source": [
    "### problem 11"
   ]
  },
  {
   "cell_type": "code",
   "execution_count": 13,
   "id": "0ab445fb",
   "metadata": {},
   "outputs": [
    {
     "name": "stdout",
     "output_type": "stream",
     "text": [
      "top 10 maximum rating in Bangalore:  [('Creams and Bites', 5.0), (\"Bansal's Thali & Combo Meals\", 5.0), ('GOWHEY- HEALTHY DESSERT COMPANY', 5.0), ('JUST CREAMERY - Artisanal Healthy Ice Cream', 5.0), ('The Chinese Connection', 5.0), ('HRX by Eatfit', 5.0), ('HUNGER TREATS', 5.0), ('Snack Ride', 5.0), ('Fresh crunch pizza', 5.0), ('THE INDIAN SAMOSA', 5.0)]\n"
     ]
    }
   ],
   "source": [
    "ban_rest_list = dict()\n",
    "city = 'Bangalore'\n",
    "for sub_city in swiggy_data_cities[city][swiggy_data_cities[city].notna()]:\n",
    "    if(len(sub_city['restaurants']) <= 0):\n",
    "        continue\n",
    "    for rest_key in sub_city['restaurants'].keys():\n",
    "        rest = sub_city['restaurants'][rest_key]\n",
    "        try:\n",
    "            if(float(rest['rating'].strip()) >= 5.0):\n",
    "                ban_rest_list[rest['name']] = float(rest['rating'].strip())\n",
    "        except:\n",
    "            pass\n",
    "try:\n",
    "    if(len(swiggy_data.loc['restaurants',city].keys()) > 0):\n",
    "        for sub_city in swiggy_data.loc['restaurants',city]:\n",
    "            if(float(swiggy_data.loc['restaurants',city][sub_city]['rating'].strip()) >= 5.0):\n",
    "                ban_rest_list[swiggy_data.loc['restaurants',city][sub_city]['name']] = float(swiggy_data.loc['restaurants',city][sub_city]['rating'].strip())\n",
    "except:\n",
    "    pass\n",
    "\n",
    "ban_c = Counter(ban_rest_list)\n",
    "print('top 10 maximum rating in Bangalore: ',ban_c.most_common(10))"
   ]
  },
  {
   "cell_type": "markdown",
   "id": "826e0e8f",
   "metadata": {},
   "source": [
    "### problem 12"
   ]
  },
  {
   "cell_type": "code",
   "execution_count": 14,
   "id": "a9581518",
   "metadata": {},
   "outputs": [
    {
     "name": "stdout",
     "output_type": "stream",
     "text": [
      "top 10 maximum rating in Patna:  [('Kwality Walls Frozen Dessert and Ice Cream Shop', 4.6), ('Bikaner Sweets And Pastry Shop', 4.3), ('Biryani By Kilo', 4.1), ('Amrapali Cafe', 4.0), (\"McDonald's\", 4.0), ('Banjara', 4.0), ('0612 ROAD CHEF [ Open Air ]', 3.9), ('Rollacosta', 3.9), ('The Art Of Spices', 3.9), ('The Biryani Mall', 3.8)]\n"
     ]
    }
   ],
   "source": [
    "patna_rest_list = dict()\n",
    "rest_visiting_list = dict()\n",
    "city = 'Patna'\n",
    "for sub_city in swiggy_data_cities[city][swiggy_data_cities[city].notna()]:\n",
    "    if(len(sub_city['restaurants']) <= 0):\n",
    "        continue\n",
    "    for rest_key in sub_city['restaurants'].keys():\n",
    "        rest = sub_city['restaurants'][rest_key]\n",
    "        try:\n",
    "            pune_rest_list[rest['name']] = float(rest['rating'].strip())\n",
    "        except:\n",
    "            pass\n",
    "try:\n",
    "    if(len(swiggy_data.loc['restaurants',city].keys()) > 0):\n",
    "        for sub_city in swiggy_data.loc['restaurants',city]:\n",
    "            patna_rest_list[swiggy_data.loc['restaurants',city][sub_city]['name']] = float(swiggy_data.loc['restaurants',city][sub_city]['rating'].strip())\n",
    "except:\n",
    "    pass\n",
    "\n",
    "patna_c = Counter(patna_rest_list)\n",
    "print('top 10 maximum rating in Patna: ',patna_c.most_common(10))"
   ]
  }
 ],
 "metadata": {
  "kernelspec": {
   "display_name": "Python 3 (ipykernel)",
   "language": "python",
   "name": "python3"
  },
  "language_info": {
   "codemirror_mode": {
    "name": "ipython",
    "version": 3
   },
   "file_extension": ".py",
   "mimetype": "text/x-python",
   "name": "python",
   "nbconvert_exporter": "python",
   "pygments_lexer": "ipython3",
   "version": "3.11.3"
  }
 },
 "nbformat": 4,
 "nbformat_minor": 5
}
