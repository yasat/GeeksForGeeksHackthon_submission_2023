{
 "cells": [
  {
   "cell_type": "markdown",
   "id": "c84e5269",
   "metadata": {},
   "source": [
    "# imports"
   ]
  },
  {
   "cell_type": "code",
   "execution_count": 1,
   "id": "635af4a6",
   "metadata": {},
   "outputs": [
    {
     "name": "stderr",
     "output_type": "stream",
     "text": [
      "[nltk_data] Downloading package stopwords to\n",
      "[nltk_data]     C:\\Users\\ghant\\AppData\\Roaming\\nltk_data...\n",
      "[nltk_data]   Package stopwords is already up-to-date!\n",
      "[nltk_data] Downloading package punkt to\n",
      "[nltk_data]     C:\\Users\\ghant\\AppData\\Roaming\\nltk_data...\n",
      "[nltk_data]   Package punkt is already up-to-date!\n"
     ]
    },
    {
     "data": {
      "text/plain": [
       "True"
      ]
     },
     "execution_count": 1,
     "metadata": {},
     "output_type": "execute_result"
    }
   ],
   "source": [
    "import pandas as pd\n",
    "import matplotlib.pyplot as plt\n",
    "\n",
    "import urllib\n",
    "import json\n",
    "\n",
    "import string\n",
    "\n",
    "import datetime\n",
    "from dateutil.relativedelta import relativedelta\n",
    "\n",
    "import isodate\n",
    "\n",
    "import altair as alt\n",
    "\n",
    "from sklearn.feature_extraction.text import CountVectorizer\n",
    "from sklearn.decomposition import LatentDirichletAllocation\n",
    "from sklearn.cluster import KMeans\n",
    "\n",
    "import nltk\n",
    "from nltk.corpus import stopwords\n",
    "from nltk.util import ngrams\n",
    "nltk.download('stopwords')\n",
    "nltk.download('punkt')"
   ]
  },
  {
   "cell_type": "markdown",
   "id": "3bfe0db5",
   "metadata": {},
   "source": [
    "# Keys"
   ]
  },
  {
   "cell_type": "code",
   "execution_count": 2,
   "id": "8a01a97f",
   "metadata": {},
   "outputs": [],
   "source": [
    "key = \"\" # removed key. should paste google api key here for the below apis to work\n",
    "\n",
    "channel_id = \"UC0RhatS1pyxInC00YKjjBqQ\" #id for geeksforgeeks channel"
   ]
  },
  {
   "cell_type": "markdown",
   "id": "6ce57a63",
   "metadata": {},
   "source": [
    "# fetching playlist upload url"
   ]
  },
  {
   "cell_type": "code",
   "execution_count": 3,
   "id": "51dbf420",
   "metadata": {},
   "outputs": [],
   "source": [
    "uploads_url = \"https://www.googleapis.com/youtube/v3/channels?id=\"+channel_id+\"&key=\"+key+\"&part=contentDetails\"\n",
    "\n",
    "request = urllib.request.urlopen(uploads_url)\n",
    "response = json.load(request)\n",
    "uploads_id = response['items'][0]['contentDetails']['relatedPlaylists']['uploads']"
   ]
  },
  {
   "cell_type": "markdown",
   "id": "ed5f82e6",
   "metadata": {},
   "source": [
    "# fetching video ids for all the videos within 6 months duration using pagination"
   ]
  },
  {
   "cell_type": "code",
   "execution_count": 4,
   "id": "7276b2d9",
   "metadata": {},
   "outputs": [],
   "source": [
    "videos_url = \"https://www.googleapis.com/youtube/v3/playlistItems?playlistId=\"+uploads_id+\"&key=\"+key+\"&part=snippet&pageToken=EAAaBlBUOkNESQ&maxResults=25\"\n",
    "\n",
    "items = list()\n",
    "\n",
    "request = urllib.request.urlopen(videos_url)\n",
    "response = json.load(request)\n",
    "\n",
    "items = items + response['items']\n",
    "\n",
    "pageToken = response['nextPageToken']\n",
    "\n",
    "end_date = datetime.datetime.strptime(response['items'][0]['snippet']['publishedAt'],\"%Y-%m-%dT%H:%M:%SZ\")\n",
    "start_date = end_date - relativedelta(months=6)\n",
    "\n",
    "while pageToken != \"\":\n",
    "    videos_url = \"https://www.googleapis.com/youtube/v3/playlistItems?playlistId=\"+uploads_id+\"&key=\"+key+\"&part=snippet&pageToken=\"+pageToken+\"&maxResults=25\"\n",
    "\n",
    "    request = urllib.request.urlopen(videos_url)\n",
    "    response = json.load(request)\n",
    "    \n",
    "    pageToken = response.get('nextPageToken',\"\")\n",
    "    \n",
    "    items = items + response['items']\n",
    "    \n",
    "    if(datetime.datetime.strptime(response['items'][-1]['snippet']['publishedAt'],\"%Y-%m-%dT%H:%M:%SZ\") <= start_date):\n",
    "        break"
   ]
  },
  {
   "cell_type": "markdown",
   "id": "c7ad9dcd",
   "metadata": {},
   "source": [
    "# creating a simple dictionary list, to store url, title, date and id of the videos\n",
    "\n",
    "## Task 1 solution"
   ]
  },
  {
   "cell_type": "code",
   "execution_count": 5,
   "id": "7b46a971",
   "metadata": {},
   "outputs": [
    {
     "name": "stdout",
     "output_type": "stream",
     "text": [
      "videos current date: 2023-07-11 02:48:41\n",
      "videos starting date (6 months before): 2023-01-11 12:30:19\n",
      "total videos in this duration:  161\n"
     ]
    }
   ],
   "source": [
    "videos_data = list()\n",
    "\n",
    "for item in items:\n",
    "    if(datetime.datetime.strptime(item['snippet']['publishedAt'],\"%Y-%m-%dT%H:%M:%SZ\") < start_date):\n",
    "        break\n",
    "    video_data = dict()\n",
    "    video_data['video_id'] = item['snippet']['resourceId']['videoId']\n",
    "    video_data['video_title'] = item['snippet']['title']\n",
    "    video_data['pubish_date'] = datetime.datetime.strptime(item['snippet']['publishedAt'],\"%Y-%m-%dT%H:%M:%SZ\")\n",
    "    video_data['url'] = \"https://www.youtube.com/watch?v=\" + item['snippet']['resourceId']['videoId']\n",
    "\n",
    "    videos_data.append(video_data)\n",
    "\n",
    "print(\"videos current date:\",videos_data[0]['pubish_date'])\n",
    "print(\"videos starting date (6 months before):\",videos_data[-1]['pubish_date'])\n",
    "print(\"total videos in this duration: \", len(videos_data))"
   ]
  },
  {
   "cell_type": "markdown",
   "id": "bec46415",
   "metadata": {},
   "source": [
    "# fetching statistics data for each video id"
   ]
  },
  {
   "cell_type": "code",
   "execution_count": 6,
   "id": "99cfd0d7",
   "metadata": {},
   "outputs": [],
   "source": [
    "videos_data_main = list()\n",
    "\n",
    "for video in videos_data:\n",
    "\n",
    "    video_stats_url = \"https://youtube.googleapis.com/youtube/v3/videos?part=snippet%2CcontentDetails%2Cstatistics&id=\"+video['video_id']+\"&key=\"+key\n",
    "    \n",
    "    request = urllib.request.urlopen(video_stats_url)\n",
    "    response = json.load(request)\n",
    "    \n",
    "    video['views'] = response['items'][0]['statistics']['viewCount']\n",
    "    video['duration'] = response['items'][0]['contentDetails']['duration']\n",
    "    \n",
    "    videos_data_main.append(video)"
   ]
  },
  {
   "cell_type": "markdown",
   "id": "ffade228",
   "metadata": {},
   "source": [
    "# custom dataframe with all the information (duration converted to seconds)\n",
    "\n",
    "## Task 2 solution"
   ]
  },
  {
   "cell_type": "code",
   "execution_count": 7,
   "id": "bc131907",
   "metadata": {},
   "outputs": [
    {
     "data": {
      "text/html": [
       "<div>\n",
       "<style scoped>\n",
       "    .dataframe tbody tr th:only-of-type {\n",
       "        vertical-align: middle;\n",
       "    }\n",
       "\n",
       "    .dataframe tbody tr th {\n",
       "        vertical-align: top;\n",
       "    }\n",
       "\n",
       "    .dataframe thead th {\n",
       "        text-align: right;\n",
       "    }\n",
       "</style>\n",
       "<table border=\"1\" class=\"dataframe\">\n",
       "  <thead>\n",
       "    <tr style=\"text-align: right;\">\n",
       "      <th></th>\n",
       "      <th>video_title</th>\n",
       "      <th>pubish_date</th>\n",
       "      <th>url</th>\n",
       "      <th>views</th>\n",
       "      <th>duration</th>\n",
       "    </tr>\n",
       "  </thead>\n",
       "  <tbody>\n",
       "    <tr>\n",
       "      <th>0</th>\n",
       "      <td>Day 10 | Machine Learning 101 | Geek-O-Lympics...</td>\n",
       "      <td>2023-07-11 02:48:41</td>\n",
       "      <td>https://www.youtube.com/watch?v=34Ady4FD79k</td>\n",
       "      <td>1785</td>\n",
       "      <td>4131</td>\n",
       "    </tr>\n",
       "    <tr>\n",
       "      <th>1</th>\n",
       "      <td>60 Seconds TRICK to Optimize your PYTHON Code ...</td>\n",
       "      <td>2023-07-10 15:19:00</td>\n",
       "      <td>https://www.youtube.com/watch?v=cd0iFrCDm7M</td>\n",
       "      <td>921</td>\n",
       "      <td>45</td>\n",
       "    </tr>\n",
       "    <tr>\n",
       "      <th>2</th>\n",
       "      <td>Day 9 | The Art of Data Storytelling | How Num...</td>\n",
       "      <td>2023-07-10 01:39:22</td>\n",
       "      <td>https://www.youtube.com/watch?v=baNfsN0SWWk</td>\n",
       "      <td>715</td>\n",
       "      <td>3569</td>\n",
       "    </tr>\n",
       "    <tr>\n",
       "      <th>3</th>\n",
       "      <td>Roadmap for Test Automation Engineering | Nite...</td>\n",
       "      <td>2023-07-09 18:46:11</td>\n",
       "      <td>https://www.youtube.com/watch?v=DW8r1fACCLY</td>\n",
       "      <td>1030</td>\n",
       "      <td>3462</td>\n",
       "    </tr>\n",
       "    <tr>\n",
       "      <th>4</th>\n",
       "      <td>Day 8 | Power of Python in Data Science | Ashi...</td>\n",
       "      <td>2023-07-09 03:31:19</td>\n",
       "      <td>https://www.youtube.com/watch?v=YPTkw7rr408</td>\n",
       "      <td>1453</td>\n",
       "      <td>3326</td>\n",
       "    </tr>\n",
       "  </tbody>\n",
       "</table>\n",
       "</div>"
      ],
      "text/plain": [
       "                                         video_title         pubish_date   \n",
       "0  Day 10 | Machine Learning 101 | Geek-O-Lympics... 2023-07-11 02:48:41  \\\n",
       "1  60 Seconds TRICK to Optimize your PYTHON Code ... 2023-07-10 15:19:00   \n",
       "2  Day 9 | The Art of Data Storytelling | How Num... 2023-07-10 01:39:22   \n",
       "3  Roadmap for Test Automation Engineering | Nite... 2023-07-09 18:46:11   \n",
       "4  Day 8 | Power of Python in Data Science | Ashi... 2023-07-09 03:31:19   \n",
       "\n",
       "                                           url  views  duration  \n",
       "0  https://www.youtube.com/watch?v=34Ady4FD79k   1785      4131  \n",
       "1  https://www.youtube.com/watch?v=cd0iFrCDm7M    921        45  \n",
       "2  https://www.youtube.com/watch?v=baNfsN0SWWk    715      3569  \n",
       "3  https://www.youtube.com/watch?v=DW8r1fACCLY   1030      3462  \n",
       "4  https://www.youtube.com/watch?v=YPTkw7rr408   1453      3326  "
      ]
     },
     "execution_count": 7,
     "metadata": {},
     "output_type": "execute_result"
    }
   ],
   "source": [
    "gfofg_data = pd.DataFrame(videos_data_main)\n",
    "\n",
    "gfofg_data = gfofg_data.drop(columns='video_id', axis=0)\n",
    "\n",
    "gfofg_data.duration = gfofg_data.duration.apply(lambda x : isodate.parse_duration(x).seconds)\n",
    "gfofg_data.views = gfofg_data.views.apply(lambda x : int(x))\n",
    "\n",
    "gfofg_data.head()"
   ]
  },
  {
   "cell_type": "markdown",
   "id": "d60b7fe1",
   "metadata": {},
   "source": [
    "# onehot encodings for all the titles (unigram,bigram,trigram are considered), custom stopwords removal and LDA for topics finding\n",
    "\n",
    "# only 30 topic are set due to the less dataset constriants"
   ]
  },
  {
   "cell_type": "code",
   "execution_count": 8,
   "id": "6234a6ee",
   "metadata": {},
   "outputs": [
    {
     "name": "stderr",
     "output_type": "stream",
     "text": [
      "C:\\Languages\\Python311\\Lib\\site-packages\\sklearn\\feature_extraction\\text.py:525: UserWarning: The parameter 'token_pattern' will not be used since 'tokenizer' is not None'\n",
      "  warnings.warn(\n"
     ]
    },
    {
     "data": {
      "text/html": [
       "<div>\n",
       "<style scoped>\n",
       "    .dataframe tbody tr th:only-of-type {\n",
       "        vertical-align: middle;\n",
       "    }\n",
       "\n",
       "    .dataframe tbody tr th {\n",
       "        vertical-align: top;\n",
       "    }\n",
       "\n",
       "    .dataframe thead th {\n",
       "        text-align: right;\n",
       "    }\n",
       "</style>\n",
       "<table border=\"1\" class=\"dataframe\">\n",
       "  <thead>\n",
       "    <tr style=\"text-align: right;\">\n",
       "      <th></th>\n",
       "      <th>video_title</th>\n",
       "      <th>pubish_date</th>\n",
       "      <th>url</th>\n",
       "      <th>views</th>\n",
       "      <th>duration</th>\n",
       "      <th>title</th>\n",
       "      <th>cluster</th>\n",
       "    </tr>\n",
       "  </thead>\n",
       "  <tbody>\n",
       "    <tr>\n",
       "      <th>0</th>\n",
       "      <td>Day 10 | Machine Learning 101 | Geek-O-Lympics...</td>\n",
       "      <td>2023-07-11 02:48:41</td>\n",
       "      <td>https://www.youtube.com/watch?v=34Ady4FD79k</td>\n",
       "      <td>1785</td>\n",
       "      <td>4131</td>\n",
       "      <td>Machine Learning GeekOLympics</td>\n",
       "      <td>21</td>\n",
       "    </tr>\n",
       "    <tr>\n",
       "      <th>1</th>\n",
       "      <td>60 Seconds TRICK to Optimize your PYTHON Code ...</td>\n",
       "      <td>2023-07-10 15:19:00</td>\n",
       "      <td>https://www.youtube.com/watch?v=cd0iFrCDm7M</td>\n",
       "      <td>921</td>\n",
       "      <td>45</td>\n",
       "      <td>Seconds TRICK Optimize PYTHON Code</td>\n",
       "      <td>26</td>\n",
       "    </tr>\n",
       "    <tr>\n",
       "      <th>2</th>\n",
       "      <td>Day 9 | The Art of Data Storytelling | How Num...</td>\n",
       "      <td>2023-07-10 01:39:22</td>\n",
       "      <td>https://www.youtube.com/watch?v=baNfsN0SWWk</td>\n",
       "      <td>715</td>\n",
       "      <td>3569</td>\n",
       "      <td>Art Data Storytelling Numbers speak Louder Wor...</td>\n",
       "      <td>8</td>\n",
       "    </tr>\n",
       "    <tr>\n",
       "      <th>3</th>\n",
       "      <td>Roadmap for Test Automation Engineering | Nite...</td>\n",
       "      <td>2023-07-09 18:46:11</td>\n",
       "      <td>https://www.youtube.com/watch?v=DW8r1fACCLY</td>\n",
       "      <td>1030</td>\n",
       "      <td>3462</td>\n",
       "      <td>Roadmap Test Automation Engineering Nitesh Jain</td>\n",
       "      <td>4</td>\n",
       "    </tr>\n",
       "    <tr>\n",
       "      <th>4</th>\n",
       "      <td>Day 8 | Power of Python in Data Science | Ashi...</td>\n",
       "      <td>2023-07-09 03:31:19</td>\n",
       "      <td>https://www.youtube.com/watch?v=YPTkw7rr408</td>\n",
       "      <td>1453</td>\n",
       "      <td>3326</td>\n",
       "      <td>Power Python Data Science Ashish Jangra GeekOL...</td>\n",
       "      <td>26</td>\n",
       "    </tr>\n",
       "  </tbody>\n",
       "</table>\n",
       "</div>"
      ],
      "text/plain": [
       "                                         video_title         pubish_date   \n",
       "0  Day 10 | Machine Learning 101 | Geek-O-Lympics... 2023-07-11 02:48:41  \\\n",
       "1  60 Seconds TRICK to Optimize your PYTHON Code ... 2023-07-10 15:19:00   \n",
       "2  Day 9 | The Art of Data Storytelling | How Num... 2023-07-10 01:39:22   \n",
       "3  Roadmap for Test Automation Engineering | Nite... 2023-07-09 18:46:11   \n",
       "4  Day 8 | Power of Python in Data Science | Ashi... 2023-07-09 03:31:19   \n",
       "\n",
       "                                           url  views  duration   \n",
       "0  https://www.youtube.com/watch?v=34Ady4FD79k   1785      4131  \\\n",
       "1  https://www.youtube.com/watch?v=cd0iFrCDm7M    921        45   \n",
       "2  https://www.youtube.com/watch?v=baNfsN0SWWk    715      3569   \n",
       "3  https://www.youtube.com/watch?v=DW8r1fACCLY   1030      3462   \n",
       "4  https://www.youtube.com/watch?v=YPTkw7rr408   1453      3326   \n",
       "\n",
       "                                               title  cluster  \n",
       "0                      Machine Learning GeekOLympics       21  \n",
       "1                 Seconds TRICK Optimize PYTHON Code       26  \n",
       "2  Art Data Storytelling Numbers speak Louder Wor...        8  \n",
       "3    Roadmap Test Automation Engineering Nitesh Jain        4  \n",
       "4  Power Python Data Science Ashish Jangra GeekOL...       26  "
      ]
     },
     "execution_count": 8,
     "metadata": {},
     "output_type": "execute_result"
    }
   ],
   "source": [
    "def extract_ngrams(text):\n",
    "    tokens = nltk.word_tokenize(text)\n",
    "    unigrams = tokens\n",
    "    bigrams = [' '.join(bg) for bg in ngrams(tokens, 2)]\n",
    "    trigrams = [' '.join(tg) for tg in ngrams(tokens, 3)]\n",
    "    return unigrams + bigrams + trigrams\n",
    "\n",
    "def preprocess_title(title):\n",
    "    title = title.translate(str.maketrans('', '', string.punctuation))\n",
    "    title = ' '.join([word for word in title.split() if word.lower().isalpha()])\n",
    "    return title\n",
    "\n",
    "vectorizer = CountVectorizer(tokenizer=extract_ngrams)\n",
    "\n",
    "stop_words = list(stopwords.words('english'))\n",
    "stop_words_custom = ['geeksforgeeks','geek','geeks','#shorts', 'shorts','comments','link','day']\n",
    "stop_words = stop_words + stop_words_custom\n",
    "\n",
    "gfofg_data['title'] = gfofg_data['video_title'].apply(preprocess_title)\n",
    "gfofg_data['title'] = gfofg_data['title'].apply(lambda x: ' '.join([word for word in x.split() if word.lower() not in stop_words]))\n",
    "\n",
    "X = vectorizer.fit_transform(gfofg_data['title'])\n",
    "\n",
    "num_topics = 30\n",
    "lda = LatentDirichletAllocation(n_components=num_topics, random_state=42)\n",
    "topics = lda.fit_transform(X)\n",
    "\n",
    "topics_list = list()\n",
    "topics_key_map = dict()\n",
    "\n",
    "feature_names = vectorizer.get_feature_names_out()\n",
    "for i, title in enumerate(gfofg_data['title']):\n",
    "    topic_probs = topics[i]\n",
    "    top_topic_idx = topic_probs.argmax()\n",
    "    top_words = [feature_names[j] for j in lda.components_[top_topic_idx].argsort()[:-6:-1]]\n",
    "    topics_list.append(top_topic_idx+1)\n",
    "    \n",
    "    topics_key_map[top_topic_idx+1] = top_words\n",
    "    \n",
    "gfofg_data['cluster'] = topics_list\n",
    "\n",
    "gfofg_data.head(5)"
   ]
  },
  {
   "cell_type": "markdown",
   "id": "4270a421",
   "metadata": {},
   "source": [
    "# topics associated with highest views (all views are combined for each topic and calculated)\n",
    "\n",
    "## Task 3 solution"
   ]
  },
  {
   "cell_type": "code",
   "execution_count": 9,
   "id": "1edfc5da",
   "metadata": {},
   "outputs": [
    {
     "name": "stdout",
     "output_type": "stream",
     "text": [
      "topic viewed topics of last 6 months duration are ['design', 'web', 'web scraping', 'scraping', 'system']\n"
     ]
    }
   ],
   "source": [
    "highest_topic = 0\n",
    "highest_id = 0\n",
    "for cluster_id in range(1,num_topics+1):\n",
    "    topic_views = gfofg_data[gfofg_data['cluster'] == cluster_id]['views'].sum()\n",
    "    if(highest_topic <= topic_views):\n",
    "        highest_topic = topic_views\n",
    "        highest_id = cluster_id\n",
    "\n",
    "top_viewed_topics = topics_key_map[highest_id]\n",
    "\n",
    "print(\"topic viewed topics of last 6 months duration are\", top_viewed_topics)"
   ]
  },
  {
   "cell_type": "markdown",
   "id": "cc273e07",
   "metadata": {},
   "source": [
    "# Topics associated with the lengthiest video\n",
    "\n",
    "## Task 4 Solution"
   ]
  },
  {
   "cell_type": "code",
   "execution_count": 10,
   "id": "7ee26299",
   "metadata": {},
   "outputs": [
    {
     "name": "stdout",
     "output_type": "stream",
     "text": [
      "Topics with largest duration video ['gpt', 'chat', 'chat gpt', 'geekolympics', 'chatgpt']\n"
     ]
    }
   ],
   "source": [
    "largest_video_topics_id = gfofg_data.iloc[gfofg_data.duration.argmax()]['cluster']\n",
    "\n",
    "largest_video_topics = topics_key_map[largest_video_topics_id]\n",
    "\n",
    "print(\"Topics with largest duration video\", largest_video_topics)"
   ]
  },
  {
   "cell_type": "markdown",
   "id": "d48619cf",
   "metadata": {},
   "source": [
    "# Interactive chart for views vs duration (can zoom in, hover and drag the chart to see details clearly)\n",
    "\n",
    "## Task 5 Solution"
   ]
  },
  {
   "cell_type": "code",
   "execution_count": 11,
   "id": "9f5adeef",
   "metadata": {},
   "outputs": [
    {
     "data": {
      "text/html": [
       "\n",
       "<style>\n",
       "  #altair-viz-4674c024653b4fa290b6f7261201439f.vega-embed {\n",
       "    width: 100%;\n",
       "    display: flex;\n",
       "  }\n",
       "\n",
       "  #altair-viz-4674c024653b4fa290b6f7261201439f.vega-embed details,\n",
       "  #altair-viz-4674c024653b4fa290b6f7261201439f.vega-embed details summary {\n",
       "    position: relative;\n",
       "  }\n",
       "</style>\n",
       "<div id=\"altair-viz-4674c024653b4fa290b6f7261201439f\"></div>\n",
       "<script type=\"text/javascript\">\n",
       "  var VEGA_DEBUG = (typeof VEGA_DEBUG == \"undefined\") ? {} : VEGA_DEBUG;\n",
       "  (function(spec, embedOpt){\n",
       "    let outputDiv = document.currentScript.previousElementSibling;\n",
       "    if (outputDiv.id !== \"altair-viz-4674c024653b4fa290b6f7261201439f\") {\n",
       "      outputDiv = document.getElementById(\"altair-viz-4674c024653b4fa290b6f7261201439f\");\n",
       "    }\n",
       "    const paths = {\n",
       "      \"vega\": \"https://cdn.jsdelivr.net/npm/vega@5?noext\",\n",
       "      \"vega-lib\": \"https://cdn.jsdelivr.net/npm/vega-lib?noext\",\n",
       "      \"vega-lite\": \"https://cdn.jsdelivr.net/npm/vega-lite@5.8.0?noext\",\n",
       "      \"vega-embed\": \"https://cdn.jsdelivr.net/npm/vega-embed@6?noext\",\n",
       "    };\n",
       "\n",
       "    function maybeLoadScript(lib, version) {\n",
       "      var key = `${lib.replace(\"-\", \"\")}_version`;\n",
       "      return (VEGA_DEBUG[key] == version) ?\n",
       "        Promise.resolve(paths[lib]) :\n",
       "        new Promise(function(resolve, reject) {\n",
       "          var s = document.createElement('script');\n",
       "          document.getElementsByTagName(\"head\")[0].appendChild(s);\n",
       "          s.async = true;\n",
       "          s.onload = () => {\n",
       "            VEGA_DEBUG[key] = version;\n",
       "            return resolve(paths[lib]);\n",
       "          };\n",
       "          s.onerror = () => reject(`Error loading script: ${paths[lib]}`);\n",
       "          s.src = paths[lib];\n",
       "        });\n",
       "    }\n",
       "\n",
       "    function showError(err) {\n",
       "      outputDiv.innerHTML = `<div class=\"error\" style=\"color:red;\">${err}</div>`;\n",
       "      throw err;\n",
       "    }\n",
       "\n",
       "    function displayChart(vegaEmbed) {\n",
       "      vegaEmbed(outputDiv, spec, embedOpt)\n",
       "        .catch(err => showError(`Javascript Error: ${err.message}<br>This usually means there's a typo in your chart specification. See the javascript console for the full traceback.`));\n",
       "    }\n",
       "\n",
       "    if(typeof define === \"function\" && define.amd) {\n",
       "      requirejs.config({paths});\n",
       "      require([\"vega-embed\"], displayChart, err => showError(`Error loading script: ${err.message}`));\n",
       "    } else {\n",
       "      maybeLoadScript(\"vega\", \"5\")\n",
       "        .then(() => maybeLoadScript(\"vega-lite\", \"5.8.0\"))\n",
       "        .then(() => maybeLoadScript(\"vega-embed\", \"6\"))\n",
       "        .catch(showError)\n",
       "        .then(() => displayChart(vegaEmbed));\n",
       "    }\n",
       "  })({\"config\": {\"view\": {\"continuousWidth\": 300, \"continuousHeight\": 300}}, \"data\": {\"name\": \"data-ad73189feeb2ddf597f6d0b5cb9a76cd\"}, \"mark\": {\"type\": \"circle\", \"size\": 60}, \"encoding\": {\"tooltip\": [{\"field\": \"video_title\", \"type\": \"nominal\"}, {\"field\": \"pubish_date\", \"type\": \"temporal\"}, {\"field\": \"views\", \"type\": \"quantitative\"}, {\"field\": \"duration\", \"type\": \"quantitative\"}], \"x\": {\"field\": \"duration\", \"type\": \"quantitative\"}, \"y\": {\"field\": \"views\", \"type\": \"quantitative\"}}, \"height\": 300, \"params\": [{\"name\": \"param_1\", \"select\": {\"type\": \"interval\", \"encodings\": [\"x\", \"y\"]}, \"bind\": \"scales\"}], \"width\": 800, \"$schema\": \"https://vega.github.io/schema/vega-lite/v5.8.0.json\", \"datasets\": {\"data-ad73189feeb2ddf597f6d0b5cb9a76cd\": [{\"video_title\": \"Day 10 | Machine Learning 101 | Geek-O-Lympics 2023\", \"pubish_date\": \"2023-07-11T02:48:41\", \"url\": \"https://www.youtube.com/watch?v=34Ady4FD79k\", \"views\": 1785, \"duration\": 4131, \"title\": \"Machine Learning GeekOLympics\", \"cluster\": 21}, {\"video_title\": \"60 Seconds TRICK to Optimize your PYTHON Code | GeeksforGeeks #shorts\", \"pubish_date\": \"2023-07-10T15:19:00\", \"url\": \"https://www.youtube.com/watch?v=cd0iFrCDm7M\", \"views\": 921, \"duration\": 45, \"title\": \"Seconds TRICK Optimize PYTHON Code\", \"cluster\": 26}, {\"video_title\": \"Day 9 | The Art of Data Storytelling | How Numbers speak Louder than Words | Geek-O-Lympics 2023\", \"pubish_date\": \"2023-07-10T01:39:22\", \"url\": \"https://www.youtube.com/watch?v=baNfsN0SWWk\", \"views\": 715, \"duration\": 3569, \"title\": \"Art Data Storytelling Numbers speak Louder Words GeekOLympics\", \"cluster\": 8}, {\"video_title\": \"Roadmap for Test Automation Engineering | Nitesh Jain\", \"pubish_date\": \"2023-07-09T18:46:11\", \"url\": \"https://www.youtube.com/watch?v=DW8r1fACCLY\", \"views\": 1030, \"duration\": 3462, \"title\": \"Roadmap Test Automation Engineering Nitesh Jain\", \"cluster\": 4}, {\"video_title\": \"Day 8 | Power of Python in Data Science | Ashish Jangra | Geek-O-Lympics 2023\", \"pubish_date\": \"2023-07-09T03:31:19\", \"url\": \"https://www.youtube.com/watch?v=YPTkw7rr408\", \"views\": 1453, \"duration\": 3326, \"title\": \"Power Python Data Science Ashish Jangra GeekOLympics\", \"cluster\": 26}, {\"video_title\": \"Day 7 | Learn Kotlin | The future of Android Development | Geek-O-Lympics 2023\", \"pubish_date\": \"2023-07-08T01:27:42\", \"url\": \"https://www.youtube.com/watch?v=392InfvpaiE\", \"views\": 1803, \"duration\": 3040, \"title\": \"Learn Kotlin future Android Development GeekOLympics\", \"cluster\": 16}, {\"video_title\": \"Explore GeeksforGeeks Hiring Solutions | For Top Tech Companies | Innovative Hiring Solutions\", \"pubish_date\": \"2023-07-07T06:12:30\", \"url\": \"https://www.youtube.com/watch?v=GDeoPHRqb5w\", \"views\": 594, \"duration\": 171, \"title\": \"Explore Hiring Solutions Top Tech Companies Innovative Hiring Solutions\", \"cluster\": 1}, {\"video_title\": \"Day 6 | Demystifying System Design interviews | Conception to Reality | Geek-O-Lympics 2023\", \"pubish_date\": \"2023-07-07T03:36:36\", \"url\": \"https://www.youtube.com/watch?v=fkrBf5odxiw\", \"views\": 1884, \"duration\": 3660, \"title\": \"Demystifying System Design interviews Conception Reality GeekOLympics\", \"cluster\": 2}, {\"video_title\": \"Day 5 | Pushing the limits | Leveling Up In  Competitve Programming | Geek-O-Lympics 2023\", \"pubish_date\": \"2023-07-06T00:50:22\", \"url\": \"https://www.youtube.com/watch?v=qRmd49K1nK4\", \"views\": 1641, \"duration\": 4199, \"title\": \"Pushing limits Leveling Competitve Programming GeekOLympics\", \"cluster\": 26}, {\"video_title\": \"Best Programming language to learn DSA | @thegeekmonk1707\", \"pubish_date\": \"2023-07-05T12:40:37\", \"url\": \"https://www.youtube.com/watch?v=A1eiNCZTiPs\", \"views\": 3109, \"duration\": 48, \"title\": \"Best Programming language learn DSA\", \"cluster\": 19}, {\"video_title\": \"Day 4 | MERN Stack Best Practices | From Frontend to Backend | Geek-O-Lympics 2023\", \"pubish_date\": \"2023-07-05T04:42:08\", \"url\": \"https://www.youtube.com/watch?v=ogDt5qNy0es\", \"views\": 2223, \"duration\": 3116, \"title\": \"MERN Stack Best Practices Frontend Backend GeekOLympics\", \"cluster\": 11}, {\"video_title\": \"Day 3 | Programming Languages | Bridging the gap b/w education & employment | Geek O-Lympics 2023\", \"pubish_date\": \"2023-07-04T01:24:38\", \"url\": \"https://www.youtube.com/watch?v=4hIgVUwtbPs\", \"views\": 1229, \"duration\": 2999, \"title\": \"Programming Languages Bridging gap bw education employment OLympics\", \"cluster\": 17}, {\"video_title\": \"Option Hai?\", \"pubish_date\": \"2023-07-03T05:09:59\", \"url\": \"https://www.youtube.com/watch?v=_rQfmKRTMa0\", \"views\": 6226, \"duration\": 13, \"title\": \"Option Hai\", \"cluster\": 19}, {\"video_title\": \"Day 2 | Inside the world of Java Backend Development | Geek O-Lympics 2023\", \"pubish_date\": \"2023-07-03T01:36:49\", \"url\": \"https://www.youtube.com/watch?v=RInN-rr1kt8\", \"views\": 2232, \"duration\": 3713, \"title\": \"Inside world Java Backend Development OLympics\", \"cluster\": 28}, {\"video_title\": \"Day 1 | Cracking the Coding Interview | Santosh Mishra | Geek-O-Lympics 2023\", \"pubish_date\": \"2023-07-01T13:55:25\", \"url\": \"https://www.youtube.com/watch?v=LK2bvkUnkWs\", \"views\": 4775, \"duration\": 3969, \"title\": \"Cracking Coding Interview Santosh Mishra GeekOLympics\", \"cluster\": 11}, {\"video_title\": \"CodeCamp Day 21 | Final Challenge Integrating DSA Concepts\", \"pubish_date\": \"2023-07-01T04:27:07\", \"url\": \"https://www.youtube.com/watch?v=6GyV6KNYr0w\", \"views\": 1401, \"duration\": 6422, \"title\": \"CodeCamp Final Challenge Integrating DSA Concepts\", \"cluster\": 8}, {\"video_title\": \"Geek-O-Lympics 2023 | GeeksforGeeks\", \"pubish_date\": \"2023-06-30T13:24:50\", \"url\": \"https://www.youtube.com/watch?v=hLqJiIu6LzY\", \"views\": 3379, \"duration\": 46, \"title\": \"GeekOLympics\", \"cluster\": 11}, {\"video_title\": \"CodeCamp Day 20 | Reviewing Key Concepts and Techniques\", \"pubish_date\": \"2023-06-29T16:50:17\", \"url\": \"https://www.youtube.com/watch?v=T9TeNzB2Z24\", \"views\": 901, \"duration\": 7244, \"title\": \"CodeCamp Reviewing Key Concepts Techniques\", \"cluster\": 20}, {\"video_title\": \"CodeCamp Day 19 | Exploring Advanced Topics in DSA\", \"pubish_date\": \"2023-06-28T17:04:40\", \"url\": \"https://www.youtube.com/watch?v=kLZGFHK_bIc\", \"views\": 1526, \"duration\": 8019, \"title\": \"CodeCamp Exploring Advanced Topics DSA\", \"cluster\": 9}, {\"video_title\": \"CodeCamp Day 18 | Conquering Divide and Conquer Strategies\", \"pubish_date\": \"2023-06-27T16:56:38\", \"url\": \"https://www.youtube.com/watch?v=YMj4eEePFhY\", \"views\": 1144, \"duration\": 7770, \"title\": \"CodeCamp Conquering Divide Conquer Strategies\", \"cluster\": 22}, {\"video_title\": \"Close call \\ud83d\\ude2e\\u200d\\ud83d\\udca8\", \"pubish_date\": \"2023-06-27T08:02:43\", \"url\": \"https://www.youtube.com/watch?v=6tMHs6MFqOU\", \"views\": 6607, \"duration\": 12, \"title\": \"Close call\", \"cluster\": 20}, {\"video_title\": \"CodeCamp Day 17 | Mastering Greedy Algorithms\", \"pubish_date\": \"2023-06-26T16:52:49\", \"url\": \"https://www.youtube.com/watch?v=S_0_KBouYrA\", \"views\": 1527, \"duration\": 7821, \"title\": \"CodeCamp Mastering Greedy Algorithms\", \"cluster\": 22}, {\"video_title\": \"Web 3.0 Explained | GeeksforGeeks\", \"pubish_date\": \"2023-06-26T08:07:00\", \"url\": \"https://www.youtube.com/watch?v=zEPRJMk3p90\", \"views\": 1543, \"duration\": 1028, \"title\": \"Web Explained\", \"cluster\": 11}, {\"video_title\": \"CodeCamp Day 16 | Solving more and Complex Dynamic Programming Problems\", \"pubish_date\": \"2023-06-26T03:22:52\", \"url\": \"https://www.youtube.com/watch?v=08-vGxytNdM\", \"views\": 980, \"duration\": 2900, \"title\": \"CodeCamp Solving Complex Dynamic Programming Problems\", \"cluster\": 3}, {\"video_title\": \"Geek-O-Lympics 2023 | 1st - 31st July | GeeksforGeeks\", \"pubish_date\": \"2023-06-25T14:39:32\", \"url\": \"https://www.youtube.com/watch?v=GSqepfZLKU0\", \"views\": 1188, \"duration\": 10, \"title\": \"GeekOLympics July\", \"cluster\": 23}, {\"video_title\": \"CodeCamp Day 15 | Diving Deeper into Dynamic Programming\", \"pubish_date\": \"2023-06-25T04:14:07\", \"url\": \"https://www.youtube.com/watch?v=wx7Cb3rN7aY\", \"views\": 1354, \"duration\": 5216, \"title\": \"CodeCamp Diving Deeper Dynamic Programming\", \"cluster\": 1}, {\"video_title\": \"CodeCamp Day 14 | Unleashing the Power of Dynamic Programming\", \"pubish_date\": \"2023-06-24T04:23:11\", \"url\": \"https://www.youtube.com/watch?v=imnKxqlITf8\", \"views\": 1178, \"duration\": 6309, \"title\": \"CodeCamp Unleashing Power Dynamic Programming\", \"cluster\": 3}, {\"video_title\": \"CodeCamp Day 13 | Discovering Graph Traversal Algorithms\", \"pubish_date\": \"2023-06-22T17:10:59\", \"url\": \"https://www.youtube.com/watch?v=hgkjJD5hb5g\", \"views\": 1024, \"duration\": 8064, \"title\": \"CodeCamp Discovering Graph Traversal Algorithms\", \"cluster\": 5}, {\"video_title\": \"What Is Web Scraping & What It Is Used For | How To Use Web Scraping | GeeksforGeeks\", \"pubish_date\": \"2023-06-22T08:01:55\", \"url\": \"https://www.youtube.com/watch?v=MK15a0ipg-E\", \"views\": 1089, \"duration\": 167, \"title\": \"Web Scraping Used Use Web Scraping\", \"cluster\": 4}, {\"video_title\": \"CodeCamp Day 12 | Graph Theory Unveiled\", \"pubish_date\": \"2023-06-22T04:39:54\", \"url\": \"https://www.youtube.com/watch?v=q4ZVVImMiJU\", \"views\": 1231, \"duration\": 6600, \"title\": \"CodeCamp Graph Theory Unveiled\", \"cluster\": 20}, {\"video_title\": \"Mega Job-A-Thon | Hire Top Talent for Your Company | GeeksforGeeks\", \"pubish_date\": \"2023-06-21T13:03:03\", \"url\": \"https://www.youtube.com/watch?v=cWPqVVobUuA\", \"views\": 1105, \"duration\": 56, \"title\": \"Mega JobAThon Hire Top Talent Company\", \"cluster\": 8}, {\"video_title\": \"CodeCamp Day 11 | Journey into Binary Trees\", \"pubish_date\": \"2023-06-20T16:59:18\", \"url\": \"https://www.youtube.com/watch?v=U1UKjsA4jNg\", \"views\": 1412, \"duration\": 7841, \"title\": \"CodeCamp Journey Binary Trees\", \"cluster\": 26}, {\"video_title\": \"CodeCamp Day 10 | Tackling Complex Problems with Recursion and Backtracking\", \"pubish_date\": \"2023-06-19T16:54:21\", \"url\": \"https://www.youtube.com/watch?v=LfnOtw-og8Q\", \"views\": 1303, \"duration\": 7703, \"title\": \"CodeCamp Tackling Complex Problems Recursion Backtracking\", \"cluster\": 6}, {\"video_title\": \"DSA To Development: A Complete Coding Guide | Complete Coding Program By GeeksforGeeks\", \"pubish_date\": \"2023-06-19T12:21:12\", \"url\": \"https://www.youtube.com/watch?v=phr8lXH2Ee0\", \"views\": 48531, \"duration\": 43, \"title\": \"DSA Development Complete Coding Guide Complete Coding Program\", \"cluster\": 6}, {\"video_title\": \"CodeCamp Day 9 |  Unraveling Backtracking Techniques\", \"pubish_date\": \"2023-06-19T05:41:25\", \"url\": \"https://www.youtube.com/watch?v=Br70MkraikE\", \"views\": 1592, \"duration\": 6747, \"title\": \"CodeCamp Unraveling Backtracking Techniques\", \"cluster\": 25}, {\"video_title\": \"Skill Up This Summer with GeeksforGeeks | Free Guidance Session\", \"pubish_date\": \"2023-06-19T01:36:28\", \"url\": \"https://www.youtube.com/watch?v=AbVHTqaFpBc\", \"views\": 1331, \"duration\": 3619, \"title\": \"Skill Summer Free Guidance Session\", \"cluster\": 26}, {\"video_title\": \"CodeCamp Day 8 | Exploring the Magic of Recursion\", \"pubish_date\": \"2023-06-18T04:25:09\", \"url\": \"https://www.youtube.com/watch?v=92JFtTEc04E\", \"views\": 1870, \"duration\": 5986, \"title\": \"CodeCamp Exploring Magic Recursion\", \"cluster\": 14}, {\"video_title\": \"Unlock Your Coding Potential | Join the DSA to Development Journey | A Complete Career Program\", \"pubish_date\": \"2023-06-17T13:13:58\", \"url\": \"https://www.youtube.com/watch?v=eaoMNmJH6no\", \"views\": 5293, \"duration\": 2356, \"title\": \"Unlock Coding Potential Join DSA Development Journey Complete Career Program\", \"cluster\": 9}, {\"video_title\": \"CodeCamp Day 7 | Advanced Sorting techniques and Problem Solving\", \"pubish_date\": \"2023-06-17T04:24:15\", \"url\": \"https://www.youtube.com/watch?v=8ZUfxmpIjXg\", \"views\": 1843, \"duration\": 6099, \"title\": \"CodeCamp Advanced Sorting techniques Problem Solving\", \"cluster\": 9}, {\"video_title\": \"\\ud83e\\udee3\", \"pubish_date\": \"2023-06-16T05:16:10\", \"url\": \"https://www.youtube.com/watch?v=TLhiBPuKTOE\", \"views\": 4321, \"duration\": 12, \"title\": \"\", \"cluster\": 1}, {\"video_title\": \"CodeCamp Day 6 | Sorting Techniques Demystified\", \"pubish_date\": \"2023-06-16T04:16:06\", \"url\": \"https://www.youtube.com/watch?v=nIBPrp3iOzE\", \"views\": 1865, \"duration\": 5627, \"title\": \"CodeCamp Sorting Techniques Demystified\", \"cluster\": 2}, {\"video_title\": \"What is Queue (Updated) | Queues Explained | GeeksforGeeks\", \"pubish_date\": \"2023-06-15T11:30:20\", \"url\": \"https://www.youtube.com/watch?v=ypJwoz_SXTo\", \"views\": 952, \"duration\": 530, \"title\": \"Queue Updated Queues Explained\", \"cluster\": 3}, {\"video_title\": \"CodeCamp Day 5 | Mastering Searching Algorithms\", \"pubish_date\": \"2023-06-15T04:14:02\", \"url\": \"https://www.youtube.com/watch?v=QrMdQl8pP_A\", \"views\": 2049, \"duration\": 5364, \"title\": \"CodeCamp Mastering Searching Algorithms\", \"cluster\": 13}, {\"video_title\": \"CodeCamp Day 4 | Understanding Stacks and Queues and Problem Solving\", \"pubish_date\": \"2023-06-13T16:49:54\", \"url\": \"https://www.youtube.com/watch?v=zHSfIM0Wf-Q\", \"views\": 2326, \"duration\": 7501, \"title\": \"CodeCamp Understanding Stacks Queues Problem Solving\", \"cluster\": 22}, {\"video_title\": \"CodeCamp Day 3 | Mastering Linked Lists and Problem Solving\", \"pubish_date\": \"2023-06-13T04:47:06\", \"url\": \"https://www.youtube.com/watch?v=u412j5nA3TQ\", \"views\": 3566, \"duration\": 6753, \"title\": \"CodeCamp Mastering Linked Lists Problem Solving\", \"cluster\": 26}, {\"video_title\": \"Queue Practice Questions (Updated) | DSA Concepts | GeeksforGeeks\", \"pubish_date\": \"2023-06-12T12:01:50\", \"url\": \"https://www.youtube.com/watch?v=KG4dbF5xRig\", \"views\": 1033, \"duration\": 734, \"title\": \"Queue Practice Questions Updated DSA Concepts\", \"cluster\": 4}, {\"video_title\": \"CodeCamp Day 2 | Exploring Arrays and Problem Solving\", \"pubish_date\": \"2023-06-11T17:15:25\", \"url\": \"https://www.youtube.com/watch?v=OMHeYpQCCPE\", \"views\": 7034, \"duration\": 8960, \"title\": \"CodeCamp Exploring Arrays Problem Solving\", \"cluster\": 28}, {\"video_title\": \"CodeCamp Day 1 | DSA Fundamentals and Problem-Solving Challenges\", \"pubish_date\": \"2023-06-10T16:48:54\", \"url\": \"https://www.youtube.com/watch?v=Zdp5vIHP9-c\", \"views\": 24444, \"duration\": 7717, \"title\": \"CodeCamp DSA Fundamentals ProblemSolving Challenges\", \"cluster\": 1}, {\"video_title\": \"Free Summer Offline Classes on Python Programing | For Students Aged 14-21 | GeeksforGeeks\", \"pubish_date\": \"2023-06-09T12:12:12\", \"url\": \"https://www.youtube.com/watch?v=OOLXHwZzHfM\", \"views\": 106931, \"duration\": 37, \"title\": \"Free Summer Offline Classes Python Programing Students Aged\", \"cluster\": 12}, {\"video_title\": \"BHAGOOOO\", \"pubish_date\": \"2023-06-09T11:28:51\", \"url\": \"https://www.youtube.com/watch?v=GzQXpj8Hlk8\", \"views\": 6340, \"duration\": 7, \"title\": \"BHAGOOOO\", \"cluster\": 25}, {\"video_title\": \"The Power of System Design: Unveiling Low-Level and High-Level Design | With @ArshGoyal\", \"pubish_date\": \"2023-06-09T01:34:35\", \"url\": \"https://www.youtube.com/watch?v=St79oD9QxDU\", \"views\": 1554, \"duration\": 3543, \"title\": \"Power System Design Unveiling LowLevel HighLevel Design ArshGoyal\", \"cluster\": 4}, {\"video_title\": \"Hacking 101\\ufffc\", \"pubish_date\": \"2023-06-07T10:40:53\", \"url\": \"https://www.youtube.com/watch?v=bhKvxIqxAmM\", \"views\": 6390, \"duration\": 13, \"title\": \"Hacking\", \"cluster\": 1}, {\"video_title\": \"CAREER OPTIONS with Less CODING | GeeksforGeeks\", \"pubish_date\": \"2023-06-06T13:57:00\", \"url\": \"https://www.youtube.com/watch?v=TSxfYlduEdo\", \"views\": 5805, \"duration\": 57, \"title\": \"CAREER OPTIONS Less CODING\", \"cluster\": 20}, {\"video_title\": \"DSA Offline Classes | Link In BIO\", \"pubish_date\": \"2023-06-05T07:00:06\", \"url\": \"https://www.youtube.com/watch?v=ux9CXozxf8Q\", \"views\": 30230, \"duration\": 17, \"title\": \"DSA Offline Classes BIO\", \"cluster\": 2}, {\"video_title\": \"Don't Know How To Transition Into Product Management? Here's Your Guide | GeeksforGeeks\", \"pubish_date\": \"2023-06-04T01:56:40\", \"url\": \"https://www.youtube.com/watch?v=ukesNehO_NE\", \"views\": 2921, \"duration\": 4633, \"title\": \"Dont Know Transition Product Management Heres Guide\", \"cluster\": 12}, {\"video_title\": \"Do. Not. Touch. It.\", \"pubish_date\": \"2023-06-02T04:34:21\", \"url\": \"https://www.youtube.com/watch?v=Ynrt1kCzVMQ\", \"views\": 5004, \"duration\": 13, \"title\": \"Touch\", \"cluster\": 30}, {\"video_title\": \"Python Libraries | Data Science | GeeksforGeeks\", \"pubish_date\": \"2023-06-01T11:17:19\", \"url\": \"https://www.youtube.com/watch?v=nDa75spDmeE\", \"views\": 1283, \"duration\": 86, \"title\": \"Python Libraries Data Science\", \"cluster\": 19}, {\"video_title\": \"ITR Filing Made Simple | Documents require to file ITR | GeeksforGeeks\", \"pubish_date\": \"2023-05-31T07:50:55\", \"url\": \"https://www.youtube.com/watch?v=SWa-tsbaIpg\", \"views\": 933, \"duration\": 340, \"title\": \"ITR Filing Made Simple Documents require file ITR\", \"cluster\": 1}, {\"video_title\": \"Full Stack Development | LIVE Classes | GeeksforGeeks\", \"pubish_date\": \"2023-05-30T13:24:14\", \"url\": \"https://www.youtube.com/watch?v=cBfC9HLR9Qk\", \"views\": 89669, \"duration\": 35, \"title\": \"Full Stack Development LIVE Classes\", \"cluster\": 28}, {\"video_title\": \"From Zero to AI Hero | An Inspiring Journey of an AI Engineer\", \"pubish_date\": \"2023-05-28T03:16:49\", \"url\": \"https://www.youtube.com/watch?v=h-Z5lI8xze8\", \"views\": 1247, \"duration\": 2574, \"title\": \"Zero AI Hero Inspiring Journey AI Engineer\", \"cluster\": 27}, {\"video_title\": \"Relatable or Relatable? \\ud83e\\udd72\", \"pubish_date\": \"2023-05-26T05:34:05\", \"url\": \"https://www.youtube.com/watch?v=G4G2ltjuNos\", \"views\": 8635, \"duration\": 7, \"title\": \"Relatable Relatable\", \"cluster\": 5}, {\"video_title\": \"GeeksforGeeks Classroom Program in NCR\", \"pubish_date\": \"2023-05-25T12:31:52\", \"url\": \"https://www.youtube.com/watch?v=uEhnTpHY26o\", \"views\": 2404, \"duration\": 37, \"title\": \"Classroom Program NCR\", \"cluster\": 4}, {\"video_title\": \"What is Arrays | Arrays Explained | New Video - GeeksforGeeks\", \"pubish_date\": \"2023-05-23T11:17:39\", \"url\": \"https://www.youtube.com/watch?v=3_x_Fb31NLE\", \"views\": 2559, \"duration\": 588, \"title\": \"Arrays Arrays Explained New Video\", \"cluster\": 15}, {\"video_title\": \"Arrays Practice Questions (Updated) | In C++/JAVA/Python | GeeksforGeeks\", \"pubish_date\": \"2023-05-22T07:30:02\", \"url\": \"https://www.youtube.com/watch?v=J7EhXvnixRM\", \"views\": 2673, \"duration\": 648, \"title\": \"Arrays Practice Questions Updated CJAVAPython\", \"cluster\": 11}, {\"video_title\": \"From Zero to AI Hero | An Inspiring Journey of an AI Engineer\", \"pubish_date\": \"2023-05-21T03:19:01\", \"url\": \"https://www.youtube.com/watch?v=N-RlBo3pv-c\", \"views\": 2413, \"duration\": 2482, \"title\": \"Zero AI Hero Inspiring Journey AI Engineer\", \"cluster\": 27}, {\"video_title\": \"\\ud83d\\ude21\\ud83d\\ude24\", \"pubish_date\": \"2023-05-19T06:10:25\", \"url\": \"https://www.youtube.com/watch?v=24G2og7huNY\", \"views\": 4153, \"duration\": 11, \"title\": \"\", \"cluster\": 1}, {\"video_title\": \"Gate 2024: Prepare for Success! | GATE CSE 2024 | GeeksforGeeks\", \"pubish_date\": \"2023-05-18T10:40:24\", \"url\": \"https://www.youtube.com/watch?v=G-3vZKPEtKw\", \"views\": 27519, \"duration\": 52, \"title\": \"Gate Prepare Success GATE CSE\", \"cluster\": 16}, {\"video_title\": \"How to become a CTO in FUTURE | Shikhar Goel | GeeksforGeeks\", \"pubish_date\": \"2023-05-16T13:30:30\", \"url\": \"https://www.youtube.com/watch?v=oURtQsbXKJg\", \"views\": 1632, \"duration\": 60, \"title\": \"become CTO FUTURE Shikhar Goel\", \"cluster\": 6}, {\"video_title\": \"Get Started with CP | Competitive Programming Tips | GeeksforGeeks\", \"pubish_date\": \"2023-05-16T06:50:52\", \"url\": \"https://www.youtube.com/watch?v=FCEj-mreXvI\", \"views\": 2297, \"duration\": 99, \"title\": \"Get Started CP Competitive Programming Tips\", \"cluster\": 24}, {\"video_title\": \"Your First Step into \\ud83e\\udd47 Competitive Programming \\ud83e\\udd47 | No DSA Prerequisite | GeeksforGeeks\", \"pubish_date\": \"2023-05-13T01:55:09\", \"url\": \"https://www.youtube.com/watch?v=_HG3ScXAdf0\", \"views\": 3393, \"duration\": 4442, \"title\": \"First Step Competitive Programming DSA Prerequisite\", \"cluster\": 29}, {\"video_title\": \"Best Apps to Boost your Productivity\", \"pubish_date\": \"2023-05-12T06:52:43\", \"url\": \"https://www.youtube.com/watch?v=NaqJ6iMohHY\", \"views\": 2593, \"duration\": 61, \"title\": \"Best Apps Boost Productivity\", \"cluster\": 30}, {\"video_title\": \"React VS Angular VS Vue | GeeksforGeeks\", \"pubish_date\": \"2023-05-10T06:24:49\", \"url\": \"https://www.youtube.com/watch?v=sA2vgFR-fZc\", \"views\": 3013, \"duration\": 95, \"title\": \"React VS Angular VS Vue\", \"cluster\": 5}, {\"video_title\": \"GeeksforGeeks Classroom Program | Now in Noida and Gurugram!\", \"pubish_date\": \"2023-05-08T07:48:05\", \"url\": \"https://www.youtube.com/watch?v=16D2cuRy5JY\", \"views\": 109617, \"duration\": 38, \"title\": \"Classroom Program Noida Gurugram\", \"cluster\": 4}, {\"video_title\": \"Legends say they are still running...\", \"pubish_date\": \"2023-05-06T05:31:31\", \"url\": \"https://www.youtube.com/watch?v=AAJ0X2VxVWg\", \"views\": 6472, \"duration\": 15, \"title\": \"Legends say still running\", \"cluster\": 4}, {\"video_title\": \"\\ud83d\\ude2e\\ud83d\\ude2e\\ud83d\\ude2e\\ud83d\\ude2e\", \"pubish_date\": \"2023-05-05T05:51:28\", \"url\": \"https://www.youtube.com/watch?v=eTDvnIsDobg\", \"views\": 7382, \"duration\": 4, \"title\": \"\", \"cluster\": 1}, {\"video_title\": \"Transformers in NLP | GeeksforGeeks\", \"pubish_date\": \"2023-05-04T06:30:00\", \"url\": \"https://www.youtube.com/watch?v=-eqjV5dwb9Q\", \"views\": 2187, \"duration\": 1725, \"title\": \"Transformers NLP\", \"cluster\": 13}, {\"video_title\": \"Jobs that AI can't replace | GeeksforGeeks\", \"pubish_date\": \"2023-05-02T14:00:29\", \"url\": \"https://www.youtube.com/watch?v=uY05MFnSMwU\", \"views\": 3114, \"duration\": 197, \"title\": \"Jobs AI cant replace\", \"cluster\": 28}, {\"video_title\": \"Job Fair for Students | Till 25th May Only | GeeksforGeeks\", \"pubish_date\": \"2023-05-02T05:10:36\", \"url\": \"https://www.youtube.com/watch?v=1GEegOb3fHE\", \"views\": 82855, \"duration\": 39, \"title\": \"Job Fair Students Till May\", \"cluster\": 25}, {\"video_title\": \"3 Quick Tips!\", \"pubish_date\": \"2023-04-30T04:52:24\", \"url\": \"https://www.youtube.com/watch?v=FT_HqsKy3cQ\", \"views\": 4128, \"duration\": 32, \"title\": \"Quick Tips\", \"cluster\": 2}, {\"video_title\": \"Caution : 100% Relatable\", \"pubish_date\": \"2023-04-29T06:39:22\", \"url\": \"https://www.youtube.com/watch?v=0NoD0Y_mAy4\", \"views\": 5859, \"duration\": 25, \"title\": \"Caution Relatable\", \"cluster\": 7}, {\"video_title\": \"Flutter: \\\"Pros and Cons\\\" | GeeksforGeeks\", \"pubish_date\": \"2023-04-28T08:46:40\", \"url\": \"https://www.youtube.com/watch?v=0gnaXUiSELY\", \"views\": 2662, \"duration\": 524, \"title\": \"Flutter Pros Cons\", \"cluster\": 6}, {\"video_title\": \"Special Rewards In #100 (Link in Comments)\", \"pubish_date\": \"2023-04-27T12:55:11\", \"url\": \"https://www.youtube.com/watch?v=NNbS2iPZVBw\", \"views\": 3707, \"duration\": 17, \"title\": \"Special Rewards\", \"cluster\": 30}, {\"video_title\": \"Hire Best Talent with GeeksforGeeks\", \"pubish_date\": \"2023-04-26T13:34:07\", \"url\": \"https://www.youtube.com/watch?v=xifGlf39ahQ\", \"views\": 14239, \"duration\": 54, \"title\": \"Hire Best Talent\", \"cluster\": 19}, {\"video_title\": \"Tech Jobs without Degree | GeeksforGeeks\", \"pubish_date\": \"2023-04-25T14:30:02\", \"url\": \"https://www.youtube.com/watch?v=5jHvfzt8Ors\", \"views\": 1376, \"duration\": 123, \"title\": \"Tech Jobs without Degree\", \"cluster\": 12}, {\"video_title\": \"Prompt Engineering | @thegeekmonk1707 | GeeksforGeeks\", \"pubish_date\": \"2023-04-24T12:45:57\", \"url\": \"https://www.youtube.com/watch?v=q-qkQfAMHGw\", \"views\": 1833, \"duration\": 61, \"title\": \"Prompt Engineering\", \"cluster\": 2}, {\"video_title\": \"*Packs bag and goes home \\ud83e\\udd72*\", \"pubish_date\": \"2023-04-21T12:15:27\", \"url\": \"https://www.youtube.com/watch?v=afyHTWJK0ec\", \"views\": 3199, \"duration\": 8, \"title\": \"Packs bag goes home\", \"cluster\": 5}, {\"video_title\": \"Start your writing Journey | Geek Author Badges | GeeksforGeeks\", \"pubish_date\": \"2023-04-19T12:25:26\", \"url\": \"https://www.youtube.com/watch?v=ISPOKldx90E\", \"views\": 1262, \"duration\": 72, \"title\": \"Start writing Journey Author Badges\", \"cluster\": 14}, {\"video_title\": \"Presenting: GeeksforGeeks Author Badges | Honoring the Writer in You!\", \"pubish_date\": \"2023-04-18T16:05:52\", \"url\": \"https://www.youtube.com/watch?v=kW9BohViP04\", \"views\": 1110, \"duration\": 56, \"title\": \"Presenting Author Badges Honoring Writer\", \"cluster\": 26}, {\"video_title\": \"Create Your Own Apps Today | GeeksforGeeks\", \"pubish_date\": \"2023-04-17T13:25:39\", \"url\": \"https://www.youtube.com/watch?v=LycNCWC3g18\", \"views\": 34915, \"duration\": 38, \"title\": \"Create Apps Today\", \"cluster\": 15}, {\"video_title\": \"Upgrade with skills that really matters | GeeksforGeeks\", \"pubish_date\": \"2023-04-13T12:33:03\", \"url\": \"https://www.youtube.com/watch?v=_asFvyNPNbg\", \"views\": 9414, \"duration\": 24, \"title\": \"Upgrade skills really matters\", \"cluster\": 3}, {\"video_title\": \"World's First Virtual Game | @thegeekmonk1707 | GeeksforGeeks\", \"pubish_date\": \"2023-04-12T07:38:56\", \"url\": \"https://www.youtube.com/watch?v=isPzwR7VVGk\", \"views\": 2577, \"duration\": 60, \"title\": \"Worlds First Virtual Game\", \"cluster\": 4}, {\"video_title\": \"Android Development: Building Apps that Change Lives | Saumya Singh\", \"pubish_date\": \"2023-04-07T15:56:19\", \"url\": \"https://www.youtube.com/watch?v=Z6uYHi6Rw6Y\", \"views\": 4768, \"duration\": 3687, \"title\": \"Android Development Building Apps Change Lives Saumya Singh\", \"cluster\": 16}, {\"video_title\": \"Top 10 DSA Topics | Master these To Ace In Your Career | GeeksforGeeks\", \"pubish_date\": \"2023-04-07T12:30:28\", \"url\": \"https://www.youtube.com/watch?v=t8aN8nczZlA\", \"views\": 2441, \"duration\": 338, \"title\": \"Top DSA Topics Master Ace Career\", \"cluster\": 1}, {\"video_title\": \"GATE Journey of the Toppers | Puneet Kansal\", \"pubish_date\": \"2023-04-06T16:11:12\", \"url\": \"https://www.youtube.com/watch?v=T8jLFGA3yC0\", \"views\": 871, \"duration\": 3856, \"title\": \"GATE Journey Toppers Puneet Kansal\", \"cluster\": 23}, {\"video_title\": \"SDE Preparation in 3 hours\", \"pubish_date\": \"2023-04-05T19:17:50\", \"url\": \"https://www.youtube.com/watch?v=ftDoBLp-OfU\", \"views\": 3181, \"duration\": 10527, \"title\": \"SDE Preparation hours\", \"cluster\": 21}, {\"video_title\": \"GATE: Unlocking Opportunities in Tech | Ribhu Mukherjee\", \"pubish_date\": \"2023-04-05T15:07:57\", \"url\": \"https://www.youtube.com/watch?v=L7USgQl9w3Y\", \"views\": 1267, \"duration\": 3769, \"title\": \"GATE Unlocking Opportunities Tech Ribhu Mukherjee\", \"cluster\": 11}, {\"video_title\": \"Ernie vs ChatGPT | GeeksforGeeks\", \"pubish_date\": \"2023-04-05T12:42:22\", \"url\": \"https://www.youtube.com/watch?v=iM-EpJHn59Q\", \"views\": 1022, \"duration\": 92, \"title\": \"Ernie vs ChatGPT\", \"cluster\": 30}, {\"video_title\": \"Full Stack Development: Become a Jack of All Trades | Yajas Sardana\", \"pubish_date\": \"2023-04-04T14:48:18\", \"url\": \"https://www.youtube.com/watch?v=S_VJWRxwxDA\", \"views\": 3686, \"duration\": 3891, \"title\": \"Full Stack Development Become Jack Trades Yajas Sardana\", \"cluster\": 19}, {\"video_title\": \"Rule the Coding World with Geek Summer Carnival | GeeksforGeeks\", \"pubish_date\": \"2023-04-04T14:46:04\", \"url\": \"https://www.youtube.com/watch?v=zLj3Qb9T2Q4\", \"views\": 25488, \"duration\": 42, \"title\": \"Rule Coding World Summer Carnival\", \"cluster\": 17}, {\"video_title\": \"Discovering the World of Data Science and AI | Shambhavi Gupta\", \"pubish_date\": \"2023-04-03T14:31:06\", \"url\": \"https://www.youtube.com/watch?v=q9_Q7j6_-Vc\", \"views\": 1752, \"duration\": 2799, \"title\": \"Discovering World Data Science AI Shambhavi Gupta\", \"cluster\": 19}, {\"video_title\": \"How to become a Full Stack Developer | GeeksforGeeks\", \"pubish_date\": \"2023-04-03T12:18:56\", \"url\": \"https://www.youtube.com/watch?v=uSx5XsCkX3c\", \"views\": 4725, \"duration\": 717, \"title\": \"become Full Stack Developer\", \"cluster\": 13}, {\"video_title\": \"Office Video Leaked \\ud83d\\ude30\\ud83e\\udd2f\", \"pubish_date\": \"2023-04-02T15:43:41\", \"url\": \"https://www.youtube.com/watch?v=i_HlQl7Tg9Q\", \"views\": 5281, \"duration\": 95, \"title\": \"Office Video Leaked\", \"cluster\": 3}, {\"video_title\": \"Unleash Your Inner Geek: A Journey to Tech Mastery | Siddhartha Hazra\", \"pubish_date\": \"2023-04-01T15:23:31\", \"url\": \"https://www.youtube.com/watch?v=k9IBnmK0ywA\", \"views\": 1068, \"duration\": 2501, \"title\": \"Unleash Inner Journey Tech Mastery Siddhartha Hazra\", \"cluster\": 27}, {\"video_title\": \"Link in Comments| Master Python Backend Development with Django!#python #django #djangoframework\", \"pubish_date\": \"2023-03-31T05:52:31\", \"url\": \"https://www.youtube.com/watch?v=OAMRaoId5Mk\", \"views\": 30495, \"duration\": 39, \"title\": \"Master Python Backend Development Djangopython django djangoframework\", \"cluster\": 5}, {\"video_title\": \"From Zero to Hero: Mastering Backend Technologies | Kushal Vijay\", \"pubish_date\": \"2023-03-30T16:51:46\", \"url\": \"https://www.youtube.com/watch?v=-XxnZxNepgA\", \"views\": 2825, \"duration\": 3370, \"title\": \"Zero Hero Mastering Backend Technologies Kushal Vijay\", \"cluster\": 19}, {\"video_title\": \"Get ticket worth 11k | Link in Comments\", \"pubish_date\": \"2023-03-29T08:13:59\", \"url\": \"https://www.youtube.com/watch?v=pvgiOLlF7JE\", \"views\": 2951, \"duration\": 24, \"title\": \"Get ticket worth\", \"cluster\": 19}, {\"video_title\": \"The Art of Problem Solving: Data Structures and Algorithms @FrazMohammad\", \"pubish_date\": \"2023-03-28T14:38:46\", \"url\": \"https://www.youtube.com/watch?v=Pe-Ag_MdByQ\", \"views\": 10432, \"duration\": 4005, \"title\": \"Art Problem Solving Data Structures Algorithms FrazMohammad\", \"cluster\": 5}, {\"video_title\": \"Link in Comments!\", \"pubish_date\": \"2023-03-28T06:51:25\", \"url\": \"https://www.youtube.com/watch?v=fCtccSvOlnI\", \"views\": 2660, \"duration\": 27, \"title\": \"\", \"cluster\": 1}, {\"video_title\": \"UI/UX Trends every Startup must know! | @thegeekmonk1707 |GeeksforGeeks\", \"pubish_date\": \"2023-03-27T12:00:39\", \"url\": \"https://www.youtube.com/watch?v=_E6_jZJAT3k\", \"views\": 1036, \"duration\": 123, \"title\": \"UIUX Trends every Startup must know\", \"cluster\": 22}, {\"video_title\": \"Tips to learn Coding from scratch! @thegeekmonk1707  #tips #coding #learntocode #learnfromthebest\", \"pubish_date\": \"2023-03-26T09:43:53\", \"url\": \"https://www.youtube.com/watch?v=P2j7o-KvDsU\", \"views\": 2385, \"duration\": 60, \"title\": \"Tips learn Coding scratch tips coding learntocode learnfromthebest\", \"cluster\": 29}, {\"video_title\": \"Building a Blockchain App with AMD Instances on Google Cloud Platform\", \"pubish_date\": \"2023-03-24T14:20:01\", \"url\": \"https://www.youtube.com/watch?v=x9Vv9kki1jE\", \"views\": 2410, \"duration\": 2475, \"title\": \"Building Blockchain App AMD Instances Google Cloud Platform\", \"cluster\": 13}, {\"video_title\": \"Google's answer to Chat GPT @thegeekmonk1707  #googlebard #chatgpt | Google bard vs Chat GPT|\", \"pubish_date\": \"2023-03-24T06:28:28\", \"url\": \"https://www.youtube.com/watch?v=orTBgra3JeQ\", \"views\": 1887, \"duration\": 58, \"title\": \"Googles answer Chat GPT googlebard chatgpt Google bard vs Chat GPT\", \"cluster\": 2}, {\"video_title\": \"Side Hustle for You! @thegeekmonk1707  #sidehustle #freelancing #earnmoneyonline\", \"pubish_date\": \"2023-03-22T12:02:14\", \"url\": \"https://www.youtube.com/watch?v=N5nUZl9Gv_U\", \"views\": 2798, \"duration\": 60, \"title\": \"Side Hustle sidehustle freelancing earnmoneyonline\", \"cluster\": 9}, {\"video_title\": \"Age is Just a Number: The Story of a 14-Year-Old CEO | CodeCast | GeeksforGeeks\", \"pubish_date\": \"2023-03-21T13:17:59\", \"url\": \"https://www.youtube.com/watch?v=TASew4CmC9w\", \"views\": 14231, \"duration\": 1005, \"title\": \"Age Number Story CEO CodeCast\", \"cluster\": 26}, {\"video_title\": \"How to Use GPT 4 | How it's better from GPT 3 | GeeksforGeeks\", \"pubish_date\": \"2023-03-20T12:48:36\", \"url\": \"https://www.youtube.com/watch?v=Mnx3TAgbX7o\", \"views\": 3979, \"duration\": 222, \"title\": \"Use GPT better GPT\", \"cluster\": 14}, {\"video_title\": \"Master Java Backend Development Live: Build Powerful Applications with Expert Guidance\", \"pubish_date\": \"2023-03-20T09:49:31\", \"url\": \"https://www.youtube.com/watch?v=YR00_yMMD2Q\", \"views\": 41360, \"duration\": 29, \"title\": \"Master Java Backend Development Live Build Powerful Applications Expert Guidance\", \"cluster\": 13}, {\"video_title\": \"Building your Fintech on Google Cloud | Solving For India - Hackathon | GeeksforGeeks\", \"pubish_date\": \"2023-03-17T14:07:19\", \"url\": \"https://www.youtube.com/watch?v=_K_rh7Yit9M\", \"views\": 2284, \"duration\": 4912, \"title\": \"Building Fintech Google Cloud Solving India Hackathon\", \"cluster\": 1}, {\"video_title\": \"Innovating Health-tech Solutions with GCP | Solving For India - Hackathon | GeeksforGeeks\", \"pubish_date\": \"2023-03-16T13:59:40\", \"url\": \"https://www.youtube.com/watch?v=zyKNMGOb6KY\", \"views\": 2545, \"duration\": 4125, \"title\": \"Innovating Healthtech Solutions GCP Solving India Hackathon\", \"cluster\": 12}, {\"video_title\": \"Accelerating Fitness & Sports-tech Development with GCP |  Solving For India - Hackathon\", \"pubish_date\": \"2023-03-15T13:50:41\", \"url\": \"https://www.youtube.com/watch?v=2N5IM30dSpE\", \"views\": 1731, \"duration\": 4276, \"title\": \"Accelerating Fitness Sportstech Development GCP Solving India Hackathon\", \"cluster\": 16}, {\"video_title\": \"5 Resume Mistakes to Avoid | GeeksforGeeks\", \"pubish_date\": \"2023-03-15T12:18:16\", \"url\": \"https://www.youtube.com/watch?v=LrTeA6dXYzQ\", \"views\": 1222, \"duration\": 51, \"title\": \"Resume Mistakes Avoid\", \"cluster\": 26}, {\"video_title\": \"Master DSA Today and be the Masters of Tomorrow\", \"pubish_date\": \"2023-03-15T10:16:37\", \"url\": \"https://www.youtube.com/watch?v=PsOXP5hg52w\", \"views\": 73706, \"duration\": 25, \"title\": \"Master DSA Today Masters Tomorrow\", \"cluster\": 27}, {\"video_title\": \"How to avoid getting Laid Off | ft. Dr. Sneha Sharma\", \"pubish_date\": \"2023-03-14T13:26:51\", \"url\": \"https://www.youtube.com/watch?v=s4frRcj17AM\", \"views\": 1103, \"duration\": 1897, \"title\": \"avoid getting Laid ft Dr Sneha Sharma\", \"cluster\": 4}, {\"video_title\": \"Empowering Agrotech Innovations with GCP | Solving For India - Hackathon | GeeksforGeeks\", \"pubish_date\": \"2023-03-14T13:21:40\", \"url\": \"https://www.youtube.com/watch?v=9Wwt1xiyQAQ\", \"views\": 1741, \"duration\": 2800, \"title\": \"Empowering Agrotech Innovations GCP Solving India Hackathon\", \"cluster\": 21}, {\"video_title\": \"Psychology of Deciding Your Career ft. Dhairya Gangwani | GeeksforGeeks\", \"pubish_date\": \"2023-03-13T13:40:04\", \"url\": \"https://www.youtube.com/watch?v=0oPyv39ynTo\", \"views\": 846, \"duration\": 1168, \"title\": \"Psychology Deciding Career ft Dhairya Gangwani\", \"cluster\": 24}, {\"video_title\": \"Learning to Build Blockchain Application | Solving For India - Hackathon | GeeksforGeeks\", \"pubish_date\": \"2023-03-12T13:42:54\", \"url\": \"https://www.youtube.com/watch?v=sXJ2uOC0ZJw\", \"views\": 3419, \"duration\": 3384, \"title\": \"Learning Build Blockchain Application Solving India Hackathon\", \"cluster\": 8}, {\"video_title\": \"Creating Instances on Google Cloud | Solving For India - Hackathon | GeeksforGeeks\", \"pubish_date\": \"2023-03-11T13:21:19\", \"url\": \"https://www.youtube.com/watch?v=P_C4isMvDoY\", \"views\": 6133, \"duration\": 2408, \"title\": \"Creating Instances Google Cloud Solving India Hackathon\", \"cluster\": 19}, {\"video_title\": \"CodeCast Ep. 3 | Learn all About Competitive Programming | @PriyanshAgarwal  with Mr. Sandeep Jain\", \"pubish_date\": \"2023-03-09T13:07:22\", \"url\": \"https://www.youtube.com/watch?v=5uAFQqdS9oA\", \"views\": 5855, \"duration\": 1916, \"title\": \"CodeCast Ep Learn Competitive Programming PriyanshAgarwal Mr Sandeep Jain\", \"cluster\": 21}, {\"video_title\": \"Advice for Women in Tech | ft. @PriyaVajpeyi\", \"pubish_date\": \"2023-03-06T13:14:05\", \"url\": \"https://www.youtube.com/watch?v=tn5BHjwAvTc\", \"views\": 1526, \"duration\": 715, \"title\": \"Advice Women Tech ft PriyaVajpeyi\", \"cluster\": 27}, {\"video_title\": \"Empowering women coders || GeeksforGeeks\", \"pubish_date\": \"2023-03-06T13:07:19\", \"url\": \"https://www.youtube.com/watch?v=ELZoGm7QWAs\", \"views\": 948, \"duration\": 1723, \"title\": \"Empowering women coders\", \"cluster\": 23}, {\"video_title\": \"Should You Switch for More Money?\", \"pubish_date\": \"2023-03-06T10:42:25\", \"url\": \"https://www.youtube.com/watch?v=novPfJtoTsQ\", \"views\": 2674, \"duration\": 50, \"title\": \"Switch Money\", \"cluster\": 16}, {\"video_title\": \"A Step-by-Step Guide to Start with Google Cloud Services & AMD Instances | GeeksforGeeks\", \"pubish_date\": \"2023-03-05T13:49:17\", \"url\": \"https://www.youtube.com/watch?v=FGsB6rVxh5o\", \"views\": 12274, \"duration\": 3999, \"title\": \"StepbyStep Guide Start Google Cloud Services AMD Instances\", \"cluster\": 12}, {\"video_title\": \"Roadmap to Amazon | Twinkle Bajaj - SDE at Amazon\", \"pubish_date\": \"2023-03-04T15:28:33\", \"url\": \"https://www.youtube.com/watch?v=nRbR9A_8nMQ\", \"views\": 1746, \"duration\": 1110, \"title\": \"Roadmap Amazon Twinkle Bajaj SDE Amazon\", \"cluster\": 1}, {\"video_title\": \"Which one are you?\", \"pubish_date\": \"2023-03-04T13:18:50\", \"url\": \"https://www.youtube.com/watch?v=OdZfOU8jWfY\", \"views\": 3192, \"duration\": 38, \"title\": \"one\", \"cluster\": 22}, {\"video_title\": \"To Switch or Not To Switch?\", \"pubish_date\": \"2023-03-04T05:33:06\", \"url\": \"https://www.youtube.com/watch?v=CS5nJyQAxTw\", \"views\": 4391, \"duration\": 43, \"title\": \"Switch Switch\", \"cluster\": 22}, {\"video_title\": \"Meet POE | Chabot by QUORA ft @thegeekmonk1707\", \"pubish_date\": \"2023-03-02T12:25:19\", \"url\": \"https://www.youtube.com/watch?v=wxXFN8F9ays\", \"views\": 2743, \"duration\": 58, \"title\": \"Meet POE Chabot QUORA ft\", \"cluster\": 23}, {\"video_title\": \"Google Cloud X AMD and GeeksforGeeks Goes to Colleges With Some Fun Twist!\", \"pubish_date\": \"2023-02-27T05:26:49\", \"url\": \"https://www.youtube.com/watch?v=RQuaGniMRUU\", \"views\": 1482, \"duration\": 65, \"title\": \"Google Cloud X AMD Goes Colleges Fun Twist\", \"cluster\": 12}, {\"video_title\": \"Can you solve this puzzle? | Give your answers in comments \\ud83d\\udc47\\ud83c\\udffb\", \"pubish_date\": \"2023-02-25T06:27:47\", \"url\": \"https://www.youtube.com/watch?v=CGZkoNtQl_U\", \"views\": 2408, \"duration\": 33, \"title\": \"solve puzzle Give answers\", \"cluster\": 12}, {\"video_title\": \"Solving For India Hackathon | @googlecloud X AMD | GeeksforGeeks\", \"pubish_date\": \"2023-02-23T08:01:08\", \"url\": \"https://www.youtube.com/watch?v=p0FQuaFLh0A\", \"views\": 2440, \"duration\": 47, \"title\": \"Solving India Hackathon googlecloud X AMD\", \"cluster\": 29}, {\"video_title\": \"GeeksforGeeks Job Fair 2023\", \"pubish_date\": \"2023-02-22T05:16:02\", \"url\": \"https://www.youtube.com/watch?v=xIC1IFPod9Y\", \"views\": 25807, \"duration\": 31, \"title\": \"Job Fair\", \"cluster\": 25}, {\"video_title\": \"OpenAI's ChatGPT & GPT 4 | Google's BARD AI | Will AI Replace You?\", \"pubish_date\": \"2023-02-21T07:24:32\", \"url\": \"https://www.youtube.com/watch?v=2RcaFQzCgys\", \"views\": 1936, \"duration\": 2145, \"title\": \"OpenAIs ChatGPT GPT Googles BARD AI AI Replace\", \"cluster\": 1}, {\"video_title\": \"Learn System Design with GeeksforGeeks\", \"pubish_date\": \"2023-02-21T06:09:09\", \"url\": \"https://www.youtube.com/watch?v=XQEZ07JhVuA\", \"views\": 118335, \"duration\": 36, \"title\": \"Learn System Design\", \"cluster\": 4}, {\"video_title\": \"Get Started With Machine Learning | GeeksforGeeks\", \"pubish_date\": \"2023-02-20T12:35:24\", \"url\": \"https://www.youtube.com/watch?v=RSVndjS2gMM\", \"views\": 1688, \"duration\": 930, \"title\": \"Get Started Machine Learning\", \"cluster\": 4}, {\"video_title\": \"\\ud83c\\udf8aCelebrating Bi-Wizard's First Anniversary\\ud83c\\udf8a | Join the Best Young Coders in the World\", \"pubish_date\": \"2023-02-19T15:30:02\", \"url\": \"https://www.youtube.com/watch?v=D8aEoRbwC64\", \"views\": 613, \"duration\": 31, \"title\": \"BiWizards First Join Best Young Coders World\", \"cluster\": 12}, {\"video_title\": \"Meet Shikar Goel, CTO of GeeksforGeeks | Know His Journey\", \"pubish_date\": \"2023-02-17T13:51:32\", \"url\": \"https://www.youtube.com/watch?v=d2zk6YEqGsM\", \"views\": 1656, \"duration\": 2242, \"title\": \"Meet Shikar Goel CTO Know Journey\", \"cluster\": 13}, {\"video_title\": \"An Opportunity for Recruiters to Hire Top Tech Talent | Jobs Fair 2023 | GeeksforGeeks\", \"pubish_date\": \"2023-02-16T13:00:30\", \"url\": \"https://www.youtube.com/watch?v=RbQt5dz8Dws\", \"views\": 1795, \"duration\": 26, \"title\": \"Opportunity Recruiters Hire Top Tech Talent Jobs Fair\", \"cluster\": 10}, {\"video_title\": \"\\ud83e\\udd72\\ud83e\\udd72\", \"pubish_date\": \"2023-02-16T11:30:25\", \"url\": \"https://www.youtube.com/watch?v=dOoiIwmXo20\", \"views\": 5339, \"duration\": 5, \"title\": \"\", \"cluster\": 1}, {\"video_title\": \"A.I. Apps That Can Change Your Lives | GeeksforGeeks\", \"pubish_date\": \"2023-02-15T12:56:21\", \"url\": \"https://www.youtube.com/watch?v=kApRNheEJ8Q\", \"views\": 2856, \"duration\": 210, \"title\": \"AI Apps Change Lives\", \"cluster\": 6}, {\"video_title\": \"Coders Tell Us: \\u201cPyaar Kya Hai?\\u201d\", \"pubish_date\": \"2023-02-14T07:53:15\", \"url\": \"https://www.youtube.com/watch?v=qIRBk1OkfoA\", \"views\": 5636, \"duration\": 60, \"title\": \"Coders Tell Us Kya\", \"cluster\": 22}, {\"video_title\": \"Roadmap To Master Recursion? Roadmap To Master Recursion! | GeeksforGeeks\", \"pubish_date\": \"2023-02-13T13:03:55\", \"url\": \"https://www.youtube.com/watch?v=51JvvwqQmlQ\", \"views\": 2413, \"duration\": 112, \"title\": \"Roadmap Master Recursion Roadmap Master Recursion\", \"cluster\": 7}, {\"video_title\": \"Coder hun, Give up nhi karta\\u2026 \\ud83e\\udd79\", \"pubish_date\": \"2023-02-09T11:30:02\", \"url\": \"https://www.youtube.com/watch?v=6a5CJuM3R_0\", \"views\": 5379, \"duration\": 7, \"title\": \"Coder hun Give nhi\", \"cluster\": 17}, {\"video_title\": \"CodeCast Ep. 2 | SDE Without A Technical Degree? | GeeksforGeeks\", \"pubish_date\": \"2023-02-08T12:45:12\", \"url\": \"https://www.youtube.com/watch?v=XlcpYRp0ouc\", \"views\": 1901, \"duration\": 415, \"title\": \"CodeCast Ep SDE Without Technical Degree\", \"cluster\": 30}, {\"video_title\": \"The Art of Becoming a Successful Coder | GeeksforGeeks\", \"pubish_date\": \"2023-02-07T12:47:38\", \"url\": \"https://www.youtube.com/watch?v=jO2SyGwS4bA\", \"views\": 6739, \"duration\": 906, \"title\": \"Art Becoming Successful Coder\", \"cluster\": 5}, {\"video_title\": \"GATE CS 2023 Full Exam Analysis | GeeksforGeeks\", \"pubish_date\": \"2023-02-04T12:55:11\", \"url\": \"https://www.youtube.com/watch?v=tQNjbADDzIc\", \"views\": 10814, \"duration\": 17577, \"title\": \"GATE CS Full Exam Analysis\", \"cluster\": 2}, {\"video_title\": \"Optimal Way to Get Started with DSA | GeeksforGeeks\", \"pubish_date\": \"2023-02-03T13:12:08\", \"url\": \"https://www.youtube.com/watch?v=-WLD1oY2dB4\", \"views\": 7109, \"duration\": 161, \"title\": \"Optimal Way Get Started DSA\", \"cluster\": 19}, {\"video_title\": \"Can You Solve This Brain Teaser? | Most Asked In Tech Interviews!\", \"pubish_date\": \"2023-02-01T17:32:15\", \"url\": \"https://www.youtube.com/watch?v=lhrPq06PfcA\", \"views\": 2454, \"duration\": 40, \"title\": \"Solve Brain Teaser Asked Tech Interviews\", \"cluster\": 8}, {\"video_title\": \"Mistakes to Avoid in Your Next Job Interview | GeeksforGeeks\", \"pubish_date\": \"2023-02-01T11:30:00\", \"url\": \"https://www.youtube.com/watch?v=1uO3E57gPpE\", \"views\": 1539, \"duration\": 62, \"title\": \"Mistakes Avoid Next Job Interview\", \"cluster\": 22}, {\"video_title\": \"Kadam badha le\\u2026 Company ke bahar \\ud83e\\udd21\", \"pubish_date\": \"2023-01-31T11:11:47\", \"url\": \"https://www.youtube.com/watch?v=JFyb2l6mBxA\", \"views\": 12020, \"duration\": 14, \"title\": \"Kadam badha Company ke bahar\", \"cluster\": 8}, {\"video_title\": \"Master These Coding Practices For Your Placement Preparation | GeeksforGeeks\", \"pubish_date\": \"2023-01-23T12:48:58\", \"url\": \"https://www.youtube.com/watch?v=v_mlqwjlv00\", \"views\": 5472, \"duration\": 238, \"title\": \"Master Coding Practices Placement Preparation\", \"cluster\": 30}, {\"video_title\": \"Correct Your Mistakes in 1 minute | Data Science | GeeksforGeeks\", \"pubish_date\": \"2023-01-20T11:48:11\", \"url\": \"https://www.youtube.com/watch?v=vNiiuh__7u0\", \"views\": 1290, \"duration\": 46, \"title\": \"Correct Mistakes minute Data Science\", \"cluster\": 15}, {\"video_title\": \"Why Learn DevOps? | Upskill with GeeksforGeeks\", \"pubish_date\": \"2023-01-14T10:09:57\", \"url\": \"https://www.youtube.com/watch?v=1rBplc2aE5M\", \"views\": 3227, \"duration\": 2221, \"title\": \"Learn DevOps Upskill\", \"cluster\": 4}, {\"video_title\": \"CodeCast Ep. 1 | Journey From A Vegetable Seller To A 10LPA+ Job | GeeksforGeeks\", \"pubish_date\": \"2023-01-11T12:30:19\", \"url\": \"https://www.youtube.com/watch?v=ksRDXChKN70\", \"views\": 2409, \"duration\": 439, \"title\": \"CodeCast Ep Journey Vegetable Seller Job\", \"cluster\": 30}]}}, {\"mode\": \"vega-lite\"});\n",
       "</script>"
      ],
      "text/plain": [
       "alt.Chart(...)"
      ]
     },
     "execution_count": 11,
     "metadata": {},
     "output_type": "execute_result"
    }
   ],
   "source": [
    "alt.Chart(gfofg_data).mark_circle(size=60).encode(\n",
    "    y='views',\n",
    "    x='duration',\n",
    "    tooltip=['video_title', 'pubish_date', 'views', 'duration']\n",
    ").properties(\n",
    "    width=800,\n",
    "    height=300\n",
    ").interactive()"
   ]
  }
 ],
 "metadata": {
  "kernelspec": {
   "display_name": "Python 3 (ipykernel)",
   "language": "python",
   "name": "python3"
  },
  "language_info": {
   "codemirror_mode": {
    "name": "ipython",
    "version": 3
   },
   "file_extension": ".py",
   "mimetype": "text/x-python",
   "name": "python",
   "nbconvert_exporter": "python",
   "pygments_lexer": "ipython3",
   "version": "3.11.3"
  }
 },
 "nbformat": 4,
 "nbformat_minor": 5
}
